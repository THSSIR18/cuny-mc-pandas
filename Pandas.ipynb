{
  "nbformat": 4,
  "nbformat_minor": 0,
  "metadata": {
    "colab": {
      "name": "Pandas.ipynb",
      "provenance": [],
      "authorship_tag": "ABX9TyN4vg/VGkmYPUPvPkslQstM",
      "include_colab_link": true
    },
    "kernelspec": {
      "name": "python3",
      "display_name": "Python 3"
    }
  },
  "cells": [
    {
      "cell_type": "markdown",
      "metadata": {
        "id": "view-in-github",
        "colab_type": "text"
      },
      "source": [
        "<a href=\"https://colab.research.google.com/github/THSSIR18/cuny-mc-pandas/blob/main/Pandas.ipynb\" target=\"_parent\"><img src=\"https://colab.research.google.com/assets/colab-badge.svg\" alt=\"Open In Colab\"/></a>"
      ]
    },
    {
      "cell_type": "code",
      "metadata": {
        "colab": {
          "base_uri": "https://localhost:8080/"
        },
        "id": "AJEWa-CsbVCp",
        "outputId": "3005c321-5e03-43d5-8661-3a2d2d35ca1e"
      },
      "source": [
        "import numpy as np\r\n",
        "import pandas as pd \r\n",
        "from numpy.random import randn\r\n",
        "#a = np.random.seed()\r\n",
        "a = np.random.random()\r\n",
        "a"
      ],
      "execution_count": null,
      "outputs": [
        {
          "output_type": "execute_result",
          "data": {
            "text/plain": [
              "0.025926231827891333"
            ]
          },
          "metadata": {
            "tags": []
          },
          "execution_count": 10
        }
      ]
    },
    {
      "cell_type": "code",
      "metadata": {
        "colab": {
          "base_uri": "https://localhost:8080/"
        },
        "id": "vPyq-pT-dxE_",
        "outputId": "7d3c091e-65e9-44cb-ed83-6f582d8a297b"
      },
      "source": [
        "#np.random.seed(5)\r\n",
        "a=np.random.randint(10,size=5)\r\n",
        "for i in a:\r\n",
        "  print(i)\r\n",
        "  b=b+i\r\n",
        "a.sum()\r\n"
      ],
      "execution_count": null,
      "outputs": [
        {
          "output_type": "stream",
          "text": [
            "3\n",
            "6\n",
            "6\n",
            "0\n",
            "9\n"
          ],
          "name": "stdout"
        },
        {
          "output_type": "execute_result",
          "data": {
            "text/plain": [
              "24"
            ]
          },
          "metadata": {
            "tags": []
          },
          "execution_count": 60
        }
      ]
    },
    {
      "cell_type": "code",
      "metadata": {
        "id": "A7LRYC3ahVUq",
        "colab": {
          "base_uri": "https://localhost:8080/",
          "height": 204
        },
        "outputId": "7ba09952-a81c-490f-f7d7-93a3c80dddec"
      },
      "source": [
        "df = pd.DataFrame(randn(5,4),['A','B','C','D','E'],['W','X','Y','Z'])\r\n",
        "df"
      ],
      "execution_count": null,
      "outputs": [
        {
          "output_type": "execute_result",
          "data": {
            "text/html": [
              "<div>\n",
              "<style scoped>\n",
              "    .dataframe tbody tr th:only-of-type {\n",
              "        vertical-align: middle;\n",
              "    }\n",
              "\n",
              "    .dataframe tbody tr th {\n",
              "        vertical-align: top;\n",
              "    }\n",
              "\n",
              "    .dataframe thead th {\n",
              "        text-align: right;\n",
              "    }\n",
              "</style>\n",
              "<table border=\"1\" class=\"dataframe\">\n",
              "  <thead>\n",
              "    <tr style=\"text-align: right;\">\n",
              "      <th></th>\n",
              "      <th>W</th>\n",
              "      <th>X</th>\n",
              "      <th>Y</th>\n",
              "      <th>Z</th>\n",
              "    </tr>\n",
              "  </thead>\n",
              "  <tbody>\n",
              "    <tr>\n",
              "      <th>A</th>\n",
              "      <td>0.100738</td>\n",
              "      <td>0.355438</td>\n",
              "      <td>0.269612</td>\n",
              "      <td>1.291963</td>\n",
              "    </tr>\n",
              "    <tr>\n",
              "      <th>B</th>\n",
              "      <td>1.139343</td>\n",
              "      <td>0.494440</td>\n",
              "      <td>-0.336336</td>\n",
              "      <td>-0.100614</td>\n",
              "    </tr>\n",
              "    <tr>\n",
              "      <th>C</th>\n",
              "      <td>1.413398</td>\n",
              "      <td>0.221254</td>\n",
              "      <td>-1.310773</td>\n",
              "      <td>-0.689565</td>\n",
              "    </tr>\n",
              "    <tr>\n",
              "      <th>D</th>\n",
              "      <td>-0.577513</td>\n",
              "      <td>1.152205</td>\n",
              "      <td>-0.107164</td>\n",
              "      <td>2.260107</td>\n",
              "    </tr>\n",
              "    <tr>\n",
              "      <th>E</th>\n",
              "      <td>0.656619</td>\n",
              "      <td>0.124807</td>\n",
              "      <td>-0.435704</td>\n",
              "      <td>0.972179</td>\n",
              "    </tr>\n",
              "  </tbody>\n",
              "</table>\n",
              "</div>"
            ],
            "text/plain": [
              "          W         X         Y         Z\n",
              "A  0.100738  0.355438  0.269612  1.291963\n",
              "B  1.139343  0.494440 -0.336336 -0.100614\n",
              "C  1.413398  0.221254 -1.310773 -0.689565\n",
              "D -0.577513  1.152205 -0.107164  2.260107\n",
              "E  0.656619  0.124807 -0.435704  0.972179"
            ]
          },
          "metadata": {
            "tags": []
          },
          "execution_count": 63
        }
      ]
    },
    {
      "cell_type": "code",
      "metadata": {
        "colab": {
          "base_uri": "https://localhost:8080/",
          "height": 204
        },
        "id": "BszBQfdriSgm",
        "outputId": "b5045768-b1af-4c98-8795-0b168ecbdfc1"
      },
      "source": [
        "df[['W']]"
      ],
      "execution_count": null,
      "outputs": [
        {
          "output_type": "execute_result",
          "data": {
            "text/html": [
              "<div>\n",
              "<style scoped>\n",
              "    .dataframe tbody tr th:only-of-type {\n",
              "        vertical-align: middle;\n",
              "    }\n",
              "\n",
              "    .dataframe tbody tr th {\n",
              "        vertical-align: top;\n",
              "    }\n",
              "\n",
              "    .dataframe thead th {\n",
              "        text-align: right;\n",
              "    }\n",
              "</style>\n",
              "<table border=\"1\" class=\"dataframe\">\n",
              "  <thead>\n",
              "    <tr style=\"text-align: right;\">\n",
              "      <th></th>\n",
              "      <th>W</th>\n",
              "    </tr>\n",
              "  </thead>\n",
              "  <tbody>\n",
              "    <tr>\n",
              "      <th>A</th>\n",
              "      <td>0.100738</td>\n",
              "    </tr>\n",
              "    <tr>\n",
              "      <th>B</th>\n",
              "      <td>1.139343</td>\n",
              "    </tr>\n",
              "    <tr>\n",
              "      <th>C</th>\n",
              "      <td>1.413398</td>\n",
              "    </tr>\n",
              "    <tr>\n",
              "      <th>D</th>\n",
              "      <td>-0.577513</td>\n",
              "    </tr>\n",
              "    <tr>\n",
              "      <th>E</th>\n",
              "      <td>0.656619</td>\n",
              "    </tr>\n",
              "  </tbody>\n",
              "</table>\n",
              "</div>"
            ],
            "text/plain": [
              "          W\n",
              "A  0.100738\n",
              "B  1.139343\n",
              "C  1.413398\n",
              "D -0.577513\n",
              "E  0.656619"
            ]
          },
          "metadata": {
            "tags": []
          },
          "execution_count": 66
        }
      ]
    },
    {
      "cell_type": "code",
      "metadata": {
        "colab": {
          "base_uri": "https://localhost:8080/",
          "height": 204
        },
        "id": "C5VLkgctiYjL",
        "outputId": "fe0a6ffd-aa4c-4af1-ac7e-33c9abec6f6b"
      },
      "source": [
        "df[['W','X']]"
      ],
      "execution_count": null,
      "outputs": [
        {
          "output_type": "execute_result",
          "data": {
            "text/html": [
              "<div>\n",
              "<style scoped>\n",
              "    .dataframe tbody tr th:only-of-type {\n",
              "        vertical-align: middle;\n",
              "    }\n",
              "\n",
              "    .dataframe tbody tr th {\n",
              "        vertical-align: top;\n",
              "    }\n",
              "\n",
              "    .dataframe thead th {\n",
              "        text-align: right;\n",
              "    }\n",
              "</style>\n",
              "<table border=\"1\" class=\"dataframe\">\n",
              "  <thead>\n",
              "    <tr style=\"text-align: right;\">\n",
              "      <th></th>\n",
              "      <th>W</th>\n",
              "      <th>X</th>\n",
              "    </tr>\n",
              "  </thead>\n",
              "  <tbody>\n",
              "    <tr>\n",
              "      <th>A</th>\n",
              "      <td>0.100738</td>\n",
              "      <td>0.355438</td>\n",
              "    </tr>\n",
              "    <tr>\n",
              "      <th>B</th>\n",
              "      <td>1.139343</td>\n",
              "      <td>0.494440</td>\n",
              "    </tr>\n",
              "    <tr>\n",
              "      <th>C</th>\n",
              "      <td>1.413398</td>\n",
              "      <td>0.221254</td>\n",
              "    </tr>\n",
              "    <tr>\n",
              "      <th>D</th>\n",
              "      <td>-0.577513</td>\n",
              "      <td>1.152205</td>\n",
              "    </tr>\n",
              "    <tr>\n",
              "      <th>E</th>\n",
              "      <td>0.656619</td>\n",
              "      <td>0.124807</td>\n",
              "    </tr>\n",
              "  </tbody>\n",
              "</table>\n",
              "</div>"
            ],
            "text/plain": [
              "          W         X\n",
              "A  0.100738  0.355438\n",
              "B  1.139343  0.494440\n",
              "C  1.413398  0.221254\n",
              "D -0.577513  1.152205\n",
              "E  0.656619  0.124807"
            ]
          },
          "metadata": {
            "tags": []
          },
          "execution_count": 65
        }
      ]
    },
    {
      "cell_type": "code",
      "metadata": {
        "colab": {
          "base_uri": "https://localhost:8080/"
        },
        "id": "ALjsF_qEiYla",
        "outputId": "a151869b-5939-4c88-87e4-3fea075ed2a7"
      },
      "source": [
        "df.loc['A']"
      ],
      "execution_count": null,
      "outputs": [
        {
          "output_type": "execute_result",
          "data": {
            "text/plain": [
              "W    0.100738\n",
              "X    0.355438\n",
              "Y    0.269612\n",
              "Z    1.291963\n",
              "Name: A, dtype: float64"
            ]
          },
          "metadata": {
            "tags": []
          },
          "execution_count": 67
        }
      ]
    },
    {
      "cell_type": "code",
      "metadata": {
        "colab": {
          "base_uri": "https://localhost:8080/",
          "height": 204
        },
        "id": "8_jamu9wiYnu",
        "outputId": "91db4e35-d7d5-4d8a-d680-6a023d56ac2e"
      },
      "source": [
        "df['new']= df['W']+df['Y']\r\n",
        "df"
      ],
      "execution_count": null,
      "outputs": [
        {
          "output_type": "execute_result",
          "data": {
            "text/html": [
              "<div>\n",
              "<style scoped>\n",
              "    .dataframe tbody tr th:only-of-type {\n",
              "        vertical-align: middle;\n",
              "    }\n",
              "\n",
              "    .dataframe tbody tr th {\n",
              "        vertical-align: top;\n",
              "    }\n",
              "\n",
              "    .dataframe thead th {\n",
              "        text-align: right;\n",
              "    }\n",
              "</style>\n",
              "<table border=\"1\" class=\"dataframe\">\n",
              "  <thead>\n",
              "    <tr style=\"text-align: right;\">\n",
              "      <th></th>\n",
              "      <th>W</th>\n",
              "      <th>X</th>\n",
              "      <th>Y</th>\n",
              "      <th>Z</th>\n",
              "      <th>new</th>\n",
              "    </tr>\n",
              "  </thead>\n",
              "  <tbody>\n",
              "    <tr>\n",
              "      <th>A</th>\n",
              "      <td>0.100738</td>\n",
              "      <td>0.355438</td>\n",
              "      <td>0.269612</td>\n",
              "      <td>1.291963</td>\n",
              "      <td>0.370351</td>\n",
              "    </tr>\n",
              "    <tr>\n",
              "      <th>B</th>\n",
              "      <td>1.139343</td>\n",
              "      <td>0.494440</td>\n",
              "      <td>-0.336336</td>\n",
              "      <td>-0.100614</td>\n",
              "      <td>0.803007</td>\n",
              "    </tr>\n",
              "    <tr>\n",
              "      <th>C</th>\n",
              "      <td>1.413398</td>\n",
              "      <td>0.221254</td>\n",
              "      <td>-1.310773</td>\n",
              "      <td>-0.689565</td>\n",
              "      <td>0.102625</td>\n",
              "    </tr>\n",
              "    <tr>\n",
              "      <th>D</th>\n",
              "      <td>-0.577513</td>\n",
              "      <td>1.152205</td>\n",
              "      <td>-0.107164</td>\n",
              "      <td>2.260107</td>\n",
              "      <td>-0.684677</td>\n",
              "    </tr>\n",
              "    <tr>\n",
              "      <th>E</th>\n",
              "      <td>0.656619</td>\n",
              "      <td>0.124807</td>\n",
              "      <td>-0.435704</td>\n",
              "      <td>0.972179</td>\n",
              "      <td>0.220916</td>\n",
              "    </tr>\n",
              "  </tbody>\n",
              "</table>\n",
              "</div>"
            ],
            "text/plain": [
              "          W         X         Y         Z       new\n",
              "A  0.100738  0.355438  0.269612  1.291963  0.370351\n",
              "B  1.139343  0.494440 -0.336336 -0.100614  0.803007\n",
              "C  1.413398  0.221254 -1.310773 -0.689565  0.102625\n",
              "D -0.577513  1.152205 -0.107164  2.260107 -0.684677\n",
              "E  0.656619  0.124807 -0.435704  0.972179  0.220916"
            ]
          },
          "metadata": {
            "tags": []
          },
          "execution_count": 69
        }
      ]
    },
    {
      "cell_type": "code",
      "metadata": {
        "colab": {
          "base_uri": "https://localhost:8080/",
          "height": 204
        },
        "id": "V89KMiJzleQq",
        "outputId": "f2d937a6-a9b4-4977-8c24-baa05b7fc86c"
      },
      "source": [
        "column_drop=df.drop('new',axis=1,inplace=False)\r\n",
        "column_drop"
      ],
      "execution_count": null,
      "outputs": [
        {
          "output_type": "execute_result",
          "data": {
            "text/html": [
              "<div>\n",
              "<style scoped>\n",
              "    .dataframe tbody tr th:only-of-type {\n",
              "        vertical-align: middle;\n",
              "    }\n",
              "\n",
              "    .dataframe tbody tr th {\n",
              "        vertical-align: top;\n",
              "    }\n",
              "\n",
              "    .dataframe thead th {\n",
              "        text-align: right;\n",
              "    }\n",
              "</style>\n",
              "<table border=\"1\" class=\"dataframe\">\n",
              "  <thead>\n",
              "    <tr style=\"text-align: right;\">\n",
              "      <th></th>\n",
              "      <th>W</th>\n",
              "      <th>X</th>\n",
              "      <th>Y</th>\n",
              "      <th>Z</th>\n",
              "    </tr>\n",
              "  </thead>\n",
              "  <tbody>\n",
              "    <tr>\n",
              "      <th>A</th>\n",
              "      <td>0.100738</td>\n",
              "      <td>0.355438</td>\n",
              "      <td>0.269612</td>\n",
              "      <td>1.291963</td>\n",
              "    </tr>\n",
              "    <tr>\n",
              "      <th>B</th>\n",
              "      <td>1.139343</td>\n",
              "      <td>0.494440</td>\n",
              "      <td>-0.336336</td>\n",
              "      <td>-0.100614</td>\n",
              "    </tr>\n",
              "    <tr>\n",
              "      <th>C</th>\n",
              "      <td>1.413398</td>\n",
              "      <td>0.221254</td>\n",
              "      <td>-1.310773</td>\n",
              "      <td>-0.689565</td>\n",
              "    </tr>\n",
              "    <tr>\n",
              "      <th>D</th>\n",
              "      <td>-0.577513</td>\n",
              "      <td>1.152205</td>\n",
              "      <td>-0.107164</td>\n",
              "      <td>2.260107</td>\n",
              "    </tr>\n",
              "    <tr>\n",
              "      <th>E</th>\n",
              "      <td>0.656619</td>\n",
              "      <td>0.124807</td>\n",
              "      <td>-0.435704</td>\n",
              "      <td>0.972179</td>\n",
              "    </tr>\n",
              "  </tbody>\n",
              "</table>\n",
              "</div>"
            ],
            "text/plain": [
              "          W         X         Y         Z\n",
              "A  0.100738  0.355438  0.269612  1.291963\n",
              "B  1.139343  0.494440 -0.336336 -0.100614\n",
              "C  1.413398  0.221254 -1.310773 -0.689565\n",
              "D -0.577513  1.152205 -0.107164  2.260107\n",
              "E  0.656619  0.124807 -0.435704  0.972179"
            ]
          },
          "metadata": {
            "tags": []
          },
          "execution_count": 70
        }
      ]
    },
    {
      "cell_type": "code",
      "metadata": {
        "colab": {
          "base_uri": "https://localhost:8080/",
          "height": 173
        },
        "id": "uHZY7HqwiYqJ",
        "outputId": "10e1d964-c67f-4b29-a2d2-c2a632acaa39"
      },
      "source": [
        "row_drop = df.drop('B',axis=0,inplace=False)\r\n",
        "row_drop"
      ],
      "execution_count": null,
      "outputs": [
        {
          "output_type": "execute_result",
          "data": {
            "text/html": [
              "<div>\n",
              "<style scoped>\n",
              "    .dataframe tbody tr th:only-of-type {\n",
              "        vertical-align: middle;\n",
              "    }\n",
              "\n",
              "    .dataframe tbody tr th {\n",
              "        vertical-align: top;\n",
              "    }\n",
              "\n",
              "    .dataframe thead th {\n",
              "        text-align: right;\n",
              "    }\n",
              "</style>\n",
              "<table border=\"1\" class=\"dataframe\">\n",
              "  <thead>\n",
              "    <tr style=\"text-align: right;\">\n",
              "      <th></th>\n",
              "      <th>W</th>\n",
              "      <th>X</th>\n",
              "      <th>Y</th>\n",
              "      <th>Z</th>\n",
              "      <th>new</th>\n",
              "    </tr>\n",
              "  </thead>\n",
              "  <tbody>\n",
              "    <tr>\n",
              "      <th>A</th>\n",
              "      <td>0.100738</td>\n",
              "      <td>0.355438</td>\n",
              "      <td>0.269612</td>\n",
              "      <td>1.291963</td>\n",
              "      <td>0.370351</td>\n",
              "    </tr>\n",
              "    <tr>\n",
              "      <th>C</th>\n",
              "      <td>1.413398</td>\n",
              "      <td>0.221254</td>\n",
              "      <td>-1.310773</td>\n",
              "      <td>-0.689565</td>\n",
              "      <td>0.102625</td>\n",
              "    </tr>\n",
              "    <tr>\n",
              "      <th>D</th>\n",
              "      <td>-0.577513</td>\n",
              "      <td>1.152205</td>\n",
              "      <td>-0.107164</td>\n",
              "      <td>2.260107</td>\n",
              "      <td>-0.684677</td>\n",
              "    </tr>\n",
              "    <tr>\n",
              "      <th>E</th>\n",
              "      <td>0.656619</td>\n",
              "      <td>0.124807</td>\n",
              "      <td>-0.435704</td>\n",
              "      <td>0.972179</td>\n",
              "      <td>0.220916</td>\n",
              "    </tr>\n",
              "  </tbody>\n",
              "</table>\n",
              "</div>"
            ],
            "text/plain": [
              "          W         X         Y         Z       new\n",
              "A  0.100738  0.355438  0.269612  1.291963  0.370351\n",
              "C  1.413398  0.221254 -1.310773 -0.689565  0.102625\n",
              "D -0.577513  1.152205 -0.107164  2.260107 -0.684677\n",
              "E  0.656619  0.124807 -0.435704  0.972179  0.220916"
            ]
          },
          "metadata": {
            "tags": []
          },
          "execution_count": 71
        }
      ]
    },
    {
      "cell_type": "code",
      "metadata": {
        "colab": {
          "base_uri": "https://localhost:8080/",
          "height": 204
        },
        "id": "ugMPrVlWiYsa",
        "outputId": "a20b6a67-29d8-464a-ec41-82755fa70efe"
      },
      "source": [
        "df2 = df[['W','X']]\r\n",
        "df2"
      ],
      "execution_count": null,
      "outputs": [
        {
          "output_type": "execute_result",
          "data": {
            "text/html": [
              "<div>\n",
              "<style scoped>\n",
              "    .dataframe tbody tr th:only-of-type {\n",
              "        vertical-align: middle;\n",
              "    }\n",
              "\n",
              "    .dataframe tbody tr th {\n",
              "        vertical-align: top;\n",
              "    }\n",
              "\n",
              "    .dataframe thead th {\n",
              "        text-align: right;\n",
              "    }\n",
              "</style>\n",
              "<table border=\"1\" class=\"dataframe\">\n",
              "  <thead>\n",
              "    <tr style=\"text-align: right;\">\n",
              "      <th></th>\n",
              "      <th>W</th>\n",
              "      <th>X</th>\n",
              "    </tr>\n",
              "  </thead>\n",
              "  <tbody>\n",
              "    <tr>\n",
              "      <th>A</th>\n",
              "      <td>0.100738</td>\n",
              "      <td>0.355438</td>\n",
              "    </tr>\n",
              "    <tr>\n",
              "      <th>B</th>\n",
              "      <td>1.139343</td>\n",
              "      <td>0.494440</td>\n",
              "    </tr>\n",
              "    <tr>\n",
              "      <th>C</th>\n",
              "      <td>1.413398</td>\n",
              "      <td>0.221254</td>\n",
              "    </tr>\n",
              "    <tr>\n",
              "      <th>D</th>\n",
              "      <td>-0.577513</td>\n",
              "      <td>1.152205</td>\n",
              "    </tr>\n",
              "    <tr>\n",
              "      <th>E</th>\n",
              "      <td>0.656619</td>\n",
              "      <td>0.124807</td>\n",
              "    </tr>\n",
              "  </tbody>\n",
              "</table>\n",
              "</div>"
            ],
            "text/plain": [
              "          W         X\n",
              "A  0.100738  0.355438\n",
              "B  1.139343  0.494440\n",
              "C  1.413398  0.221254\n",
              "D -0.577513  1.152205\n",
              "E  0.656619  0.124807"
            ]
          },
          "metadata": {
            "tags": []
          },
          "execution_count": 73
        }
      ]
    },
    {
      "cell_type": "code",
      "metadata": {
        "colab": {
          "base_uri": "https://localhost:8080/"
        },
        "id": "E4ZFgZ7niYvE",
        "outputId": "4072a921-f5f9-4146-ef47-90bf3e89652a"
      },
      "source": [
        "df.loc['C']"
      ],
      "execution_count": null,
      "outputs": [
        {
          "output_type": "execute_result",
          "data": {
            "text/plain": [
              "W      1.413398\n",
              "X      0.221254\n",
              "Y     -1.310773\n",
              "Z     -0.689565\n",
              "new    0.102625\n",
              "Name: C, dtype: float64"
            ]
          },
          "metadata": {
            "tags": []
          },
          "execution_count": 75
        }
      ]
    },
    {
      "cell_type": "code",
      "metadata": {
        "colab": {
          "base_uri": "https://localhost:8080/"
        },
        "id": "BbLDv2MZiYxj",
        "outputId": "3a705dcf-5f21-430c-a713-bb2a0da9ef28"
      },
      "source": [
        "df.iloc[2]"
      ],
      "execution_count": null,
      "outputs": [
        {
          "output_type": "execute_result",
          "data": {
            "text/plain": [
              "W      1.413398\n",
              "X      0.221254\n",
              "Y     -1.310773\n",
              "Z     -0.689565\n",
              "new    0.102625\n",
              "Name: C, dtype: float64"
            ]
          },
          "metadata": {
            "tags": []
          },
          "execution_count": 77
        }
      ]
    },
    {
      "cell_type": "code",
      "metadata": {
        "colab": {
          "base_uri": "https://localhost:8080/"
        },
        "id": "voAq_efBiY0C",
        "outputId": "b5fea4c5-0bb4-4f79-f823-36a7722ce95f"
      },
      "source": [
        "df.iloc[3][1]"
      ],
      "execution_count": null,
      "outputs": [
        {
          "output_type": "execute_result",
          "data": {
            "text/plain": [
              "1.1522047703756748"
            ]
          },
          "metadata": {
            "tags": []
          },
          "execution_count": 79
        }
      ]
    },
    {
      "cell_type": "code",
      "metadata": {
        "colab": {
          "base_uri": "https://localhost:8080/"
        },
        "id": "GeHMnHfMiY25",
        "outputId": "2261badf-db55-4523-acda-0c31c18d497d"
      },
      "source": [
        "df.loc['D']['X']"
      ],
      "execution_count": null,
      "outputs": [
        {
          "output_type": "execute_result",
          "data": {
            "text/plain": [
              "1.1522047703756748"
            ]
          },
          "metadata": {
            "tags": []
          },
          "execution_count": 80
        }
      ]
    },
    {
      "cell_type": "code",
      "metadata": {
        "colab": {
          "base_uri": "https://localhost:8080/",
          "height": 204
        },
        "id": "gVjf4f4ciY5x",
        "outputId": "1c9c1da8-49ba-4ca0-c419-e501cb22919b"
      },
      "source": [
        "df >0"
      ],
      "execution_count": null,
      "outputs": [
        {
          "output_type": "execute_result",
          "data": {
            "text/html": [
              "<div>\n",
              "<style scoped>\n",
              "    .dataframe tbody tr th:only-of-type {\n",
              "        vertical-align: middle;\n",
              "    }\n",
              "\n",
              "    .dataframe tbody tr th {\n",
              "        vertical-align: top;\n",
              "    }\n",
              "\n",
              "    .dataframe thead th {\n",
              "        text-align: right;\n",
              "    }\n",
              "</style>\n",
              "<table border=\"1\" class=\"dataframe\">\n",
              "  <thead>\n",
              "    <tr style=\"text-align: right;\">\n",
              "      <th></th>\n",
              "      <th>W</th>\n",
              "      <th>X</th>\n",
              "      <th>Y</th>\n",
              "      <th>Z</th>\n",
              "      <th>new</th>\n",
              "    </tr>\n",
              "  </thead>\n",
              "  <tbody>\n",
              "    <tr>\n",
              "      <th>A</th>\n",
              "      <td>True</td>\n",
              "      <td>True</td>\n",
              "      <td>True</td>\n",
              "      <td>True</td>\n",
              "      <td>True</td>\n",
              "    </tr>\n",
              "    <tr>\n",
              "      <th>B</th>\n",
              "      <td>True</td>\n",
              "      <td>True</td>\n",
              "      <td>False</td>\n",
              "      <td>False</td>\n",
              "      <td>True</td>\n",
              "    </tr>\n",
              "    <tr>\n",
              "      <th>C</th>\n",
              "      <td>True</td>\n",
              "      <td>True</td>\n",
              "      <td>False</td>\n",
              "      <td>False</td>\n",
              "      <td>True</td>\n",
              "    </tr>\n",
              "    <tr>\n",
              "      <th>D</th>\n",
              "      <td>False</td>\n",
              "      <td>True</td>\n",
              "      <td>False</td>\n",
              "      <td>True</td>\n",
              "      <td>False</td>\n",
              "    </tr>\n",
              "    <tr>\n",
              "      <th>E</th>\n",
              "      <td>True</td>\n",
              "      <td>True</td>\n",
              "      <td>False</td>\n",
              "      <td>True</td>\n",
              "      <td>True</td>\n",
              "    </tr>\n",
              "  </tbody>\n",
              "</table>\n",
              "</div>"
            ],
            "text/plain": [
              "       W     X      Y      Z    new\n",
              "A   True  True   True   True   True\n",
              "B   True  True  False  False   True\n",
              "C   True  True  False  False   True\n",
              "D  False  True  False   True  False\n",
              "E   True  True  False   True   True"
            ]
          },
          "metadata": {
            "tags": []
          },
          "execution_count": 81
        }
      ]
    },
    {
      "cell_type": "code",
      "metadata": {
        "colab": {
          "base_uri": "https://localhost:8080/",
          "height": 204
        },
        "id": "oxxaps8po1Xr",
        "outputId": "c390067b-3b22-46e1-a077-6c8cc2ad5209"
      },
      "source": [
        "booldf = df>0\r\n",
        "booldf"
      ],
      "execution_count": null,
      "outputs": [
        {
          "output_type": "execute_result",
          "data": {
            "text/html": [
              "<div>\n",
              "<style scoped>\n",
              "    .dataframe tbody tr th:only-of-type {\n",
              "        vertical-align: middle;\n",
              "    }\n",
              "\n",
              "    .dataframe tbody tr th {\n",
              "        vertical-align: top;\n",
              "    }\n",
              "\n",
              "    .dataframe thead th {\n",
              "        text-align: right;\n",
              "    }\n",
              "</style>\n",
              "<table border=\"1\" class=\"dataframe\">\n",
              "  <thead>\n",
              "    <tr style=\"text-align: right;\">\n",
              "      <th></th>\n",
              "      <th>W</th>\n",
              "      <th>X</th>\n",
              "      <th>Y</th>\n",
              "      <th>Z</th>\n",
              "      <th>new</th>\n",
              "    </tr>\n",
              "  </thead>\n",
              "  <tbody>\n",
              "    <tr>\n",
              "      <th>A</th>\n",
              "      <td>True</td>\n",
              "      <td>True</td>\n",
              "      <td>True</td>\n",
              "      <td>True</td>\n",
              "      <td>True</td>\n",
              "    </tr>\n",
              "    <tr>\n",
              "      <th>B</th>\n",
              "      <td>True</td>\n",
              "      <td>True</td>\n",
              "      <td>False</td>\n",
              "      <td>False</td>\n",
              "      <td>True</td>\n",
              "    </tr>\n",
              "    <tr>\n",
              "      <th>C</th>\n",
              "      <td>True</td>\n",
              "      <td>True</td>\n",
              "      <td>False</td>\n",
              "      <td>False</td>\n",
              "      <td>True</td>\n",
              "    </tr>\n",
              "    <tr>\n",
              "      <th>D</th>\n",
              "      <td>False</td>\n",
              "      <td>True</td>\n",
              "      <td>False</td>\n",
              "      <td>True</td>\n",
              "      <td>False</td>\n",
              "    </tr>\n",
              "    <tr>\n",
              "      <th>E</th>\n",
              "      <td>True</td>\n",
              "      <td>True</td>\n",
              "      <td>False</td>\n",
              "      <td>True</td>\n",
              "      <td>True</td>\n",
              "    </tr>\n",
              "  </tbody>\n",
              "</table>\n",
              "</div>"
            ],
            "text/plain": [
              "       W     X      Y      Z    new\n",
              "A   True  True   True   True   True\n",
              "B   True  True  False  False   True\n",
              "C   True  True  False  False   True\n",
              "D  False  True  False   True  False\n",
              "E   True  True  False   True   True"
            ]
          },
          "metadata": {
            "tags": []
          },
          "execution_count": 82
        }
      ]
    },
    {
      "cell_type": "code",
      "metadata": {
        "colab": {
          "base_uri": "https://localhost:8080/",
          "height": 204
        },
        "id": "qBVX7VcVpH38",
        "outputId": "c9e350cd-ffed-4144-8105-e31565fe7ba4"
      },
      "source": [
        "df[booldf]"
      ],
      "execution_count": null,
      "outputs": [
        {
          "output_type": "execute_result",
          "data": {
            "text/html": [
              "<div>\n",
              "<style scoped>\n",
              "    .dataframe tbody tr th:only-of-type {\n",
              "        vertical-align: middle;\n",
              "    }\n",
              "\n",
              "    .dataframe tbody tr th {\n",
              "        vertical-align: top;\n",
              "    }\n",
              "\n",
              "    .dataframe thead th {\n",
              "        text-align: right;\n",
              "    }\n",
              "</style>\n",
              "<table border=\"1\" class=\"dataframe\">\n",
              "  <thead>\n",
              "    <tr style=\"text-align: right;\">\n",
              "      <th></th>\n",
              "      <th>W</th>\n",
              "      <th>X</th>\n",
              "      <th>Y</th>\n",
              "      <th>Z</th>\n",
              "      <th>new</th>\n",
              "    </tr>\n",
              "  </thead>\n",
              "  <tbody>\n",
              "    <tr>\n",
              "      <th>A</th>\n",
              "      <td>0.100738</td>\n",
              "      <td>0.355438</td>\n",
              "      <td>0.269612</td>\n",
              "      <td>1.291963</td>\n",
              "      <td>0.370351</td>\n",
              "    </tr>\n",
              "    <tr>\n",
              "      <th>B</th>\n",
              "      <td>1.139343</td>\n",
              "      <td>0.494440</td>\n",
              "      <td>NaN</td>\n",
              "      <td>NaN</td>\n",
              "      <td>0.803007</td>\n",
              "    </tr>\n",
              "    <tr>\n",
              "      <th>C</th>\n",
              "      <td>1.413398</td>\n",
              "      <td>0.221254</td>\n",
              "      <td>NaN</td>\n",
              "      <td>NaN</td>\n",
              "      <td>0.102625</td>\n",
              "    </tr>\n",
              "    <tr>\n",
              "      <th>D</th>\n",
              "      <td>NaN</td>\n",
              "      <td>1.152205</td>\n",
              "      <td>NaN</td>\n",
              "      <td>2.260107</td>\n",
              "      <td>NaN</td>\n",
              "    </tr>\n",
              "    <tr>\n",
              "      <th>E</th>\n",
              "      <td>0.656619</td>\n",
              "      <td>0.124807</td>\n",
              "      <td>NaN</td>\n",
              "      <td>0.972179</td>\n",
              "      <td>0.220916</td>\n",
              "    </tr>\n",
              "  </tbody>\n",
              "</table>\n",
              "</div>"
            ],
            "text/plain": [
              "          W         X         Y         Z       new\n",
              "A  0.100738  0.355438  0.269612  1.291963  0.370351\n",
              "B  1.139343  0.494440       NaN       NaN  0.803007\n",
              "C  1.413398  0.221254       NaN       NaN  0.102625\n",
              "D       NaN  1.152205       NaN  2.260107       NaN\n",
              "E  0.656619  0.124807       NaN  0.972179  0.220916"
            ]
          },
          "metadata": {
            "tags": []
          },
          "execution_count": 84
        }
      ]
    },
    {
      "cell_type": "code",
      "metadata": {
        "colab": {
          "base_uri": "https://localhost:8080/",
          "height": 419
        },
        "id": "y-J14DLjpXu7",
        "outputId": "84dd0fb1-9386-4a9d-b2f3-e066c123dd8a"
      },
      "source": [
        "df2= df[df>0]\r\n",
        "df2"
      ],
      "execution_count": null,
      "outputs": [
        {
          "output_type": "execute_result",
          "data": {
            "text/html": [
              "<div>\n",
              "<style scoped>\n",
              "    .dataframe tbody tr th:only-of-type {\n",
              "        vertical-align: middle;\n",
              "    }\n",
              "\n",
              "    .dataframe tbody tr th {\n",
              "        vertical-align: top;\n",
              "    }\n",
              "\n",
              "    .dataframe thead th {\n",
              "        text-align: right;\n",
              "    }\n",
              "</style>\n",
              "<table border=\"1\" class=\"dataframe\">\n",
              "  <thead>\n",
              "    <tr style=\"text-align: right;\">\n",
              "      <th></th>\n",
              "      <th>eruptions</th>\n",
              "      <th>waiting</th>\n",
              "    </tr>\n",
              "  </thead>\n",
              "  <tbody>\n",
              "    <tr>\n",
              "      <th>1</th>\n",
              "      <td>3.600</td>\n",
              "      <td>79</td>\n",
              "    </tr>\n",
              "    <tr>\n",
              "      <th>2</th>\n",
              "      <td>1.800</td>\n",
              "      <td>54</td>\n",
              "    </tr>\n",
              "    <tr>\n",
              "      <th>3</th>\n",
              "      <td>3.333</td>\n",
              "      <td>74</td>\n",
              "    </tr>\n",
              "    <tr>\n",
              "      <th>4</th>\n",
              "      <td>2.283</td>\n",
              "      <td>62</td>\n",
              "    </tr>\n",
              "    <tr>\n",
              "      <th>5</th>\n",
              "      <td>4.533</td>\n",
              "      <td>85</td>\n",
              "    </tr>\n",
              "    <tr>\n",
              "      <th>...</th>\n",
              "      <td>...</td>\n",
              "      <td>...</td>\n",
              "    </tr>\n",
              "    <tr>\n",
              "      <th>268</th>\n",
              "      <td>4.117</td>\n",
              "      <td>81</td>\n",
              "    </tr>\n",
              "    <tr>\n",
              "      <th>269</th>\n",
              "      <td>2.150</td>\n",
              "      <td>46</td>\n",
              "    </tr>\n",
              "    <tr>\n",
              "      <th>270</th>\n",
              "      <td>4.417</td>\n",
              "      <td>90</td>\n",
              "    </tr>\n",
              "    <tr>\n",
              "      <th>271</th>\n",
              "      <td>1.817</td>\n",
              "      <td>46</td>\n",
              "    </tr>\n",
              "    <tr>\n",
              "      <th>272</th>\n",
              "      <td>4.467</td>\n",
              "      <td>74</td>\n",
              "    </tr>\n",
              "  </tbody>\n",
              "</table>\n",
              "<p>272 rows × 2 columns</p>\n",
              "</div>"
            ],
            "text/plain": [
              "     eruptions  waiting\n",
              "1        3.600       79\n",
              "2        1.800       54\n",
              "3        3.333       74\n",
              "4        2.283       62\n",
              "5        4.533       85\n",
              "..         ...      ...\n",
              "268      4.117       81\n",
              "269      2.150       46\n",
              "270      4.417       90\n",
              "271      1.817       46\n",
              "272      4.467       74\n",
              "\n",
              "[272 rows x 2 columns]"
            ]
          },
          "metadata": {
            "tags": []
          },
          "execution_count": 122
        }
      ]
    },
    {
      "cell_type": "code",
      "metadata": {
        "colab": {
          "base_uri": "https://localhost:8080/",
          "height": 204
        },
        "id": "xE_MGbnopX0Q",
        "outputId": "410dbffd-c59f-4eac-8791-c36d06d75c0d"
      },
      "source": [
        "df"
      ],
      "execution_count": null,
      "outputs": [
        {
          "output_type": "execute_result",
          "data": {
            "text/html": [
              "<div>\n",
              "<style scoped>\n",
              "    .dataframe tbody tr th:only-of-type {\n",
              "        vertical-align: middle;\n",
              "    }\n",
              "\n",
              "    .dataframe tbody tr th {\n",
              "        vertical-align: top;\n",
              "    }\n",
              "\n",
              "    .dataframe thead th {\n",
              "        text-align: right;\n",
              "    }\n",
              "</style>\n",
              "<table border=\"1\" class=\"dataframe\">\n",
              "  <thead>\n",
              "    <tr style=\"text-align: right;\">\n",
              "      <th></th>\n",
              "      <th>W</th>\n",
              "      <th>X</th>\n",
              "      <th>Y</th>\n",
              "      <th>Z</th>\n",
              "      <th>new</th>\n",
              "    </tr>\n",
              "  </thead>\n",
              "  <tbody>\n",
              "    <tr>\n",
              "      <th>A</th>\n",
              "      <td>0.100738</td>\n",
              "      <td>0.355438</td>\n",
              "      <td>0.269612</td>\n",
              "      <td>1.291963</td>\n",
              "      <td>0.370351</td>\n",
              "    </tr>\n",
              "    <tr>\n",
              "      <th>B</th>\n",
              "      <td>1.139343</td>\n",
              "      <td>0.494440</td>\n",
              "      <td>-0.336336</td>\n",
              "      <td>-0.100614</td>\n",
              "      <td>0.803007</td>\n",
              "    </tr>\n",
              "    <tr>\n",
              "      <th>C</th>\n",
              "      <td>1.413398</td>\n",
              "      <td>0.221254</td>\n",
              "      <td>-1.310773</td>\n",
              "      <td>-0.689565</td>\n",
              "      <td>0.102625</td>\n",
              "    </tr>\n",
              "    <tr>\n",
              "      <th>D</th>\n",
              "      <td>-0.577513</td>\n",
              "      <td>1.152205</td>\n",
              "      <td>-0.107164</td>\n",
              "      <td>2.260107</td>\n",
              "      <td>-0.684677</td>\n",
              "    </tr>\n",
              "    <tr>\n",
              "      <th>E</th>\n",
              "      <td>0.656619</td>\n",
              "      <td>0.124807</td>\n",
              "      <td>-0.435704</td>\n",
              "      <td>0.972179</td>\n",
              "      <td>0.220916</td>\n",
              "    </tr>\n",
              "  </tbody>\n",
              "</table>\n",
              "</div>"
            ],
            "text/plain": [
              "          W         X         Y         Z       new\n",
              "A  0.100738  0.355438  0.269612  1.291963  0.370351\n",
              "B  1.139343  0.494440 -0.336336 -0.100614  0.803007\n",
              "C  1.413398  0.221254 -1.310773 -0.689565  0.102625\n",
              "D -0.577513  1.152205 -0.107164  2.260107 -0.684677\n",
              "E  0.656619  0.124807 -0.435704  0.972179  0.220916"
            ]
          },
          "metadata": {
            "tags": []
          },
          "execution_count": 86
        }
      ]
    },
    {
      "cell_type": "code",
      "metadata": {
        "colab": {
          "base_uri": "https://localhost:8080/",
          "height": 173
        },
        "id": "8RZQQrfdpX7K",
        "outputId": "dca7b386-a82d-4e9c-b6aa-2855a6f6dc14"
      },
      "source": [
        "df[df['W']>0]"
      ],
      "execution_count": null,
      "outputs": [
        {
          "output_type": "execute_result",
          "data": {
            "text/html": [
              "<div>\n",
              "<style scoped>\n",
              "    .dataframe tbody tr th:only-of-type {\n",
              "        vertical-align: middle;\n",
              "    }\n",
              "\n",
              "    .dataframe tbody tr th {\n",
              "        vertical-align: top;\n",
              "    }\n",
              "\n",
              "    .dataframe thead th {\n",
              "        text-align: right;\n",
              "    }\n",
              "</style>\n",
              "<table border=\"1\" class=\"dataframe\">\n",
              "  <thead>\n",
              "    <tr style=\"text-align: right;\">\n",
              "      <th></th>\n",
              "      <th>W</th>\n",
              "      <th>X</th>\n",
              "      <th>Y</th>\n",
              "      <th>Z</th>\n",
              "      <th>new</th>\n",
              "    </tr>\n",
              "  </thead>\n",
              "  <tbody>\n",
              "    <tr>\n",
              "      <th>A</th>\n",
              "      <td>0.100738</td>\n",
              "      <td>0.355438</td>\n",
              "      <td>0.269612</td>\n",
              "      <td>1.291963</td>\n",
              "      <td>0.370351</td>\n",
              "    </tr>\n",
              "    <tr>\n",
              "      <th>B</th>\n",
              "      <td>1.139343</td>\n",
              "      <td>0.494440</td>\n",
              "      <td>-0.336336</td>\n",
              "      <td>-0.100614</td>\n",
              "      <td>0.803007</td>\n",
              "    </tr>\n",
              "    <tr>\n",
              "      <th>C</th>\n",
              "      <td>1.413398</td>\n",
              "      <td>0.221254</td>\n",
              "      <td>-1.310773</td>\n",
              "      <td>-0.689565</td>\n",
              "      <td>0.102625</td>\n",
              "    </tr>\n",
              "    <tr>\n",
              "      <th>E</th>\n",
              "      <td>0.656619</td>\n",
              "      <td>0.124807</td>\n",
              "      <td>-0.435704</td>\n",
              "      <td>0.972179</td>\n",
              "      <td>0.220916</td>\n",
              "    </tr>\n",
              "  </tbody>\n",
              "</table>\n",
              "</div>"
            ],
            "text/plain": [
              "          W         X         Y         Z       new\n",
              "A  0.100738  0.355438  0.269612  1.291963  0.370351\n",
              "B  1.139343  0.494440 -0.336336 -0.100614  0.803007\n",
              "C  1.413398  0.221254 -1.310773 -0.689565  0.102625\n",
              "E  0.656619  0.124807 -0.435704  0.972179  0.220916"
            ]
          },
          "metadata": {
            "tags": []
          },
          "execution_count": 90
        }
      ]
    },
    {
      "cell_type": "code",
      "metadata": {
        "colab": {
          "base_uri": "https://localhost:8080/",
          "height": 204
        },
        "id": "-cxtA9qWpX-s",
        "outputId": "641d104a-ebab-4bab-ae8b-b090520a0f19"
      },
      "source": [
        "df2 = df\r\n",
        "df2.rename(columns={'new':'xyz'},inplace=True)\r\n",
        "df2"
      ],
      "execution_count": null,
      "outputs": [
        {
          "output_type": "execute_result",
          "data": {
            "text/html": [
              "<div>\n",
              "<style scoped>\n",
              "    .dataframe tbody tr th:only-of-type {\n",
              "        vertical-align: middle;\n",
              "    }\n",
              "\n",
              "    .dataframe tbody tr th {\n",
              "        vertical-align: top;\n",
              "    }\n",
              "\n",
              "    .dataframe thead th {\n",
              "        text-align: right;\n",
              "    }\n",
              "</style>\n",
              "<table border=\"1\" class=\"dataframe\">\n",
              "  <thead>\n",
              "    <tr style=\"text-align: right;\">\n",
              "      <th></th>\n",
              "      <th>W</th>\n",
              "      <th>X</th>\n",
              "      <th>Y</th>\n",
              "      <th>Z</th>\n",
              "      <th>xyz</th>\n",
              "    </tr>\n",
              "  </thead>\n",
              "  <tbody>\n",
              "    <tr>\n",
              "      <th>A</th>\n",
              "      <td>0.100738</td>\n",
              "      <td>0.355438</td>\n",
              "      <td>0.269612</td>\n",
              "      <td>1.291963</td>\n",
              "      <td>0.370351</td>\n",
              "    </tr>\n",
              "    <tr>\n",
              "      <th>B</th>\n",
              "      <td>1.139343</td>\n",
              "      <td>0.494440</td>\n",
              "      <td>-0.336336</td>\n",
              "      <td>-0.100614</td>\n",
              "      <td>0.803007</td>\n",
              "    </tr>\n",
              "    <tr>\n",
              "      <th>C</th>\n",
              "      <td>1.413398</td>\n",
              "      <td>0.221254</td>\n",
              "      <td>-1.310773</td>\n",
              "      <td>-0.689565</td>\n",
              "      <td>0.102625</td>\n",
              "    </tr>\n",
              "    <tr>\n",
              "      <th>D</th>\n",
              "      <td>-0.577513</td>\n",
              "      <td>1.152205</td>\n",
              "      <td>-0.107164</td>\n",
              "      <td>2.260107</td>\n",
              "      <td>-0.684677</td>\n",
              "    </tr>\n",
              "    <tr>\n",
              "      <th>E</th>\n",
              "      <td>0.656619</td>\n",
              "      <td>0.124807</td>\n",
              "      <td>-0.435704</td>\n",
              "      <td>0.972179</td>\n",
              "      <td>0.220916</td>\n",
              "    </tr>\n",
              "  </tbody>\n",
              "</table>\n",
              "</div>"
            ],
            "text/plain": [
              "          W         X         Y         Z       xyz\n",
              "A  0.100738  0.355438  0.269612  1.291963  0.370351\n",
              "B  1.139343  0.494440 -0.336336 -0.100614  0.803007\n",
              "C  1.413398  0.221254 -1.310773 -0.689565  0.102625\n",
              "D -0.577513  1.152205 -0.107164  2.260107 -0.684677\n",
              "E  0.656619  0.124807 -0.435704  0.972179  0.220916"
            ]
          },
          "metadata": {
            "tags": []
          },
          "execution_count": 100
        }
      ]
    },
    {
      "cell_type": "code",
      "metadata": {
        "colab": {
          "base_uri": "https://localhost:8080/",
          "height": 204
        },
        "id": "eFwluSM2pYBs",
        "outputId": "dd6ed2c4-fc1a-470f-90af-2308bc273942"
      },
      "source": [
        "df"
      ],
      "execution_count": null,
      "outputs": [
        {
          "output_type": "execute_result",
          "data": {
            "text/html": [
              "<div>\n",
              "<style scoped>\n",
              "    .dataframe tbody tr th:only-of-type {\n",
              "        vertical-align: middle;\n",
              "    }\n",
              "\n",
              "    .dataframe tbody tr th {\n",
              "        vertical-align: top;\n",
              "    }\n",
              "\n",
              "    .dataframe thead th {\n",
              "        text-align: right;\n",
              "    }\n",
              "</style>\n",
              "<table border=\"1\" class=\"dataframe\">\n",
              "  <thead>\n",
              "    <tr style=\"text-align: right;\">\n",
              "      <th></th>\n",
              "      <th>W</th>\n",
              "      <th>X</th>\n",
              "      <th>Y</th>\n",
              "      <th>Z</th>\n",
              "      <th>xyz</th>\n",
              "    </tr>\n",
              "  </thead>\n",
              "  <tbody>\n",
              "    <tr>\n",
              "      <th>A</th>\n",
              "      <td>0.100738</td>\n",
              "      <td>0.355438</td>\n",
              "      <td>0.269612</td>\n",
              "      <td>1.291963</td>\n",
              "      <td>0.370351</td>\n",
              "    </tr>\n",
              "    <tr>\n",
              "      <th>B</th>\n",
              "      <td>1.139343</td>\n",
              "      <td>0.494440</td>\n",
              "      <td>-0.336336</td>\n",
              "      <td>-0.100614</td>\n",
              "      <td>0.803007</td>\n",
              "    </tr>\n",
              "    <tr>\n",
              "      <th>C</th>\n",
              "      <td>1.413398</td>\n",
              "      <td>0.221254</td>\n",
              "      <td>-1.310773</td>\n",
              "      <td>-0.689565</td>\n",
              "      <td>0.102625</td>\n",
              "    </tr>\n",
              "    <tr>\n",
              "      <th>D</th>\n",
              "      <td>-0.577513</td>\n",
              "      <td>1.152205</td>\n",
              "      <td>-0.107164</td>\n",
              "      <td>2.260107</td>\n",
              "      <td>-0.684677</td>\n",
              "    </tr>\n",
              "    <tr>\n",
              "      <th>E</th>\n",
              "      <td>0.656619</td>\n",
              "      <td>0.124807</td>\n",
              "      <td>-0.435704</td>\n",
              "      <td>0.972179</td>\n",
              "      <td>0.220916</td>\n",
              "    </tr>\n",
              "  </tbody>\n",
              "</table>\n",
              "</div>"
            ],
            "text/plain": [
              "          W         X         Y         Z       xyz\n",
              "A  0.100738  0.355438  0.269612  1.291963  0.370351\n",
              "B  1.139343  0.494440 -0.336336 -0.100614  0.803007\n",
              "C  1.413398  0.221254 -1.310773 -0.689565  0.102625\n",
              "D -0.577513  1.152205 -0.107164  2.260107 -0.684677\n",
              "E  0.656619  0.124807 -0.435704  0.972179  0.220916"
            ]
          },
          "metadata": {
            "tags": []
          },
          "execution_count": 101
        }
      ]
    },
    {
      "cell_type": "code",
      "metadata": {
        "colab": {
          "base_uri": "https://localhost:8080/"
        },
        "id": "oDbwBGgFpYEn",
        "outputId": "4db93779-ce36-4c17-bd3c-28cbef74a87e"
      },
      "source": [
        "!pip install matplotlib"
      ],
      "execution_count": null,
      "outputs": [
        {
          "output_type": "stream",
          "text": [
            "Requirement already satisfied: matplotlib in /usr/local/lib/python3.6/dist-packages (3.2.2)\n",
            "Requirement already satisfied: python-dateutil>=2.1 in /usr/local/lib/python3.6/dist-packages (from matplotlib) (2.8.1)\n",
            "Requirement already satisfied: numpy>=1.11 in /usr/local/lib/python3.6/dist-packages (from matplotlib) (1.19.5)\n",
            "Requirement already satisfied: pyparsing!=2.0.4,!=2.1.2,!=2.1.6,>=2.0.1 in /usr/local/lib/python3.6/dist-packages (from matplotlib) (2.4.7)\n",
            "Requirement already satisfied: cycler>=0.10 in /usr/local/lib/python3.6/dist-packages (from matplotlib) (0.10.0)\n",
            "Requirement already satisfied: kiwisolver>=1.0.1 in /usr/local/lib/python3.6/dist-packages (from matplotlib) (1.3.1)\n",
            "Requirement already satisfied: six>=1.5 in /usr/local/lib/python3.6/dist-packages (from python-dateutil>=2.1->matplotlib) (1.15.0)\n"
          ],
          "name": "stdout"
        }
      ]
    },
    {
      "cell_type": "code",
      "metadata": {
        "id": "y2_fjK7EuuUp"
      },
      "source": [
        "import matplotlib as plt"
      ],
      "execution_count": null,
      "outputs": []
    },
    {
      "cell_type": "code",
      "metadata": {
        "colab": {
          "base_uri": "https://localhost:8080/",
          "height": 419
        },
        "id": "a-Iuses4uuWp",
        "outputId": "7b3c0787-c5d6-4062-f9a2-a307f3d97dda"
      },
      "source": [
        "df = pd.read_csv('https://raw.githubusercontent.com/CunyLaguardiaDataAnalytics/datasets/master/faithful.csv',index_col=0)\r\n",
        "df    "
      ],
      "execution_count": null,
      "outputs": [
        {
          "output_type": "execute_result",
          "data": {
            "text/html": [
              "<div>\n",
              "<style scoped>\n",
              "    .dataframe tbody tr th:only-of-type {\n",
              "        vertical-align: middle;\n",
              "    }\n",
              "\n",
              "    .dataframe tbody tr th {\n",
              "        vertical-align: top;\n",
              "    }\n",
              "\n",
              "    .dataframe thead th {\n",
              "        text-align: right;\n",
              "    }\n",
              "</style>\n",
              "<table border=\"1\" class=\"dataframe\">\n",
              "  <thead>\n",
              "    <tr style=\"text-align: right;\">\n",
              "      <th></th>\n",
              "      <th>eruptions</th>\n",
              "      <th>waiting</th>\n",
              "    </tr>\n",
              "  </thead>\n",
              "  <tbody>\n",
              "    <tr>\n",
              "      <th>1</th>\n",
              "      <td>3.600</td>\n",
              "      <td>79</td>\n",
              "    </tr>\n",
              "    <tr>\n",
              "      <th>2</th>\n",
              "      <td>1.800</td>\n",
              "      <td>54</td>\n",
              "    </tr>\n",
              "    <tr>\n",
              "      <th>3</th>\n",
              "      <td>3.333</td>\n",
              "      <td>74</td>\n",
              "    </tr>\n",
              "    <tr>\n",
              "      <th>4</th>\n",
              "      <td>2.283</td>\n",
              "      <td>62</td>\n",
              "    </tr>\n",
              "    <tr>\n",
              "      <th>5</th>\n",
              "      <td>4.533</td>\n",
              "      <td>85</td>\n",
              "    </tr>\n",
              "    <tr>\n",
              "      <th>...</th>\n",
              "      <td>...</td>\n",
              "      <td>...</td>\n",
              "    </tr>\n",
              "    <tr>\n",
              "      <th>268</th>\n",
              "      <td>4.117</td>\n",
              "      <td>81</td>\n",
              "    </tr>\n",
              "    <tr>\n",
              "      <th>269</th>\n",
              "      <td>2.150</td>\n",
              "      <td>46</td>\n",
              "    </tr>\n",
              "    <tr>\n",
              "      <th>270</th>\n",
              "      <td>4.417</td>\n",
              "      <td>90</td>\n",
              "    </tr>\n",
              "    <tr>\n",
              "      <th>271</th>\n",
              "      <td>1.817</td>\n",
              "      <td>46</td>\n",
              "    </tr>\n",
              "    <tr>\n",
              "      <th>272</th>\n",
              "      <td>4.467</td>\n",
              "      <td>74</td>\n",
              "    </tr>\n",
              "  </tbody>\n",
              "</table>\n",
              "<p>272 rows × 2 columns</p>\n",
              "</div>"
            ],
            "text/plain": [
              "     eruptions  waiting\n",
              "1        3.600       79\n",
              "2        1.800       54\n",
              "3        3.333       74\n",
              "4        2.283       62\n",
              "5        4.533       85\n",
              "..         ...      ...\n",
              "268      4.117       81\n",
              "269      2.150       46\n",
              "270      4.417       90\n",
              "271      1.817       46\n",
              "272      4.467       74\n",
              "\n",
              "[272 rows x 2 columns]"
            ]
          },
          "metadata": {
            "tags": []
          },
          "execution_count": 136
        }
      ]
    },
    {
      "cell_type": "code",
      "metadata": {
        "colab": {
          "base_uri": "https://localhost:8080/",
          "height": 204
        },
        "id": "uB9HqATUuuZN",
        "outputId": "72249cc2-696d-49d1-8041-b0d9b336fec7"
      },
      "source": [
        "df.head()"
      ],
      "execution_count": null,
      "outputs": [
        {
          "output_type": "execute_result",
          "data": {
            "text/html": [
              "<div>\n",
              "<style scoped>\n",
              "    .dataframe tbody tr th:only-of-type {\n",
              "        vertical-align: middle;\n",
              "    }\n",
              "\n",
              "    .dataframe tbody tr th {\n",
              "        vertical-align: top;\n",
              "    }\n",
              "\n",
              "    .dataframe thead th {\n",
              "        text-align: right;\n",
              "    }\n",
              "</style>\n",
              "<table border=\"1\" class=\"dataframe\">\n",
              "  <thead>\n",
              "    <tr style=\"text-align: right;\">\n",
              "      <th></th>\n",
              "      <th>eruptions</th>\n",
              "      <th>waiting</th>\n",
              "    </tr>\n",
              "  </thead>\n",
              "  <tbody>\n",
              "    <tr>\n",
              "      <th>1</th>\n",
              "      <td>3.600</td>\n",
              "      <td>79</td>\n",
              "    </tr>\n",
              "    <tr>\n",
              "      <th>2</th>\n",
              "      <td>1.800</td>\n",
              "      <td>54</td>\n",
              "    </tr>\n",
              "    <tr>\n",
              "      <th>3</th>\n",
              "      <td>3.333</td>\n",
              "      <td>74</td>\n",
              "    </tr>\n",
              "    <tr>\n",
              "      <th>4</th>\n",
              "      <td>2.283</td>\n",
              "      <td>62</td>\n",
              "    </tr>\n",
              "    <tr>\n",
              "      <th>5</th>\n",
              "      <td>4.533</td>\n",
              "      <td>85</td>\n",
              "    </tr>\n",
              "  </tbody>\n",
              "</table>\n",
              "</div>"
            ],
            "text/plain": [
              "   eruptions  waiting\n",
              "1      3.600       79\n",
              "2      1.800       54\n",
              "3      3.333       74\n",
              "4      2.283       62\n",
              "5      4.533       85"
            ]
          },
          "metadata": {
            "tags": []
          },
          "execution_count": 114
        }
      ]
    },
    {
      "cell_type": "code",
      "metadata": {
        "colab": {
          "base_uri": "https://localhost:8080/",
          "height": 204
        },
        "id": "KBtWZirsuubD",
        "outputId": "aaea12f4-0f31-4e6c-83ac-8d4e84696a23"
      },
      "source": [
        "df.tail()"
      ],
      "execution_count": null,
      "outputs": [
        {
          "output_type": "execute_result",
          "data": {
            "text/html": [
              "<div>\n",
              "<style scoped>\n",
              "    .dataframe tbody tr th:only-of-type {\n",
              "        vertical-align: middle;\n",
              "    }\n",
              "\n",
              "    .dataframe tbody tr th {\n",
              "        vertical-align: top;\n",
              "    }\n",
              "\n",
              "    .dataframe thead th {\n",
              "        text-align: right;\n",
              "    }\n",
              "</style>\n",
              "<table border=\"1\" class=\"dataframe\">\n",
              "  <thead>\n",
              "    <tr style=\"text-align: right;\">\n",
              "      <th></th>\n",
              "      <th>eruptions</th>\n",
              "      <th>waiting</th>\n",
              "    </tr>\n",
              "  </thead>\n",
              "  <tbody>\n",
              "    <tr>\n",
              "      <th>268</th>\n",
              "      <td>4.117</td>\n",
              "      <td>81</td>\n",
              "    </tr>\n",
              "    <tr>\n",
              "      <th>269</th>\n",
              "      <td>2.150</td>\n",
              "      <td>46</td>\n",
              "    </tr>\n",
              "    <tr>\n",
              "      <th>270</th>\n",
              "      <td>4.417</td>\n",
              "      <td>90</td>\n",
              "    </tr>\n",
              "    <tr>\n",
              "      <th>271</th>\n",
              "      <td>1.817</td>\n",
              "      <td>46</td>\n",
              "    </tr>\n",
              "    <tr>\n",
              "      <th>272</th>\n",
              "      <td>4.467</td>\n",
              "      <td>74</td>\n",
              "    </tr>\n",
              "  </tbody>\n",
              "</table>\n",
              "</div>"
            ],
            "text/plain": [
              "     eruptions  waiting\n",
              "268      4.117       81\n",
              "269      2.150       46\n",
              "270      4.417       90\n",
              "271      1.817       46\n",
              "272      4.467       74"
            ]
          },
          "metadata": {
            "tags": []
          },
          "execution_count": 110
        }
      ]
    },
    {
      "cell_type": "code",
      "metadata": {
        "colab": {
          "base_uri": "https://localhost:8080/"
        },
        "id": "9fk7ZCG1uudi",
        "outputId": "f7497e0b-604d-48cb-c628-7c7022fa3c07"
      },
      "source": [
        "df.count()"
      ],
      "execution_count": null,
      "outputs": [
        {
          "output_type": "execute_result",
          "data": {
            "text/plain": [
              "eruptions    272\n",
              "waiting      272\n",
              "dtype: int64"
            ]
          },
          "metadata": {
            "tags": []
          },
          "execution_count": 117
        }
      ]
    },
    {
      "cell_type": "code",
      "metadata": {
        "colab": {
          "base_uri": "https://localhost:8080/"
        },
        "id": "htdHHjtqpYIA",
        "outputId": "e7cb9f6f-81bc-40ba-a819-57b35af2aac9"
      },
      "source": [
        "len(df)"
      ],
      "execution_count": null,
      "outputs": [
        {
          "output_type": "execute_result",
          "data": {
            "text/plain": [
              "272"
            ]
          },
          "metadata": {
            "tags": []
          },
          "execution_count": 118
        }
      ]
    },
    {
      "cell_type": "code",
      "metadata": {
        "colab": {
          "base_uri": "https://localhost:8080/"
        },
        "id": "F2JSnLm1pYMZ",
        "outputId": "3a5866b9-bfaf-4923-992a-31e18b45f126"
      },
      "source": [
        "len(df)-df['eruptions'].count()"
      ],
      "execution_count": null,
      "outputs": [
        {
          "output_type": "execute_result",
          "data": {
            "text/plain": [
              "0"
            ]
          },
          "metadata": {
            "tags": []
          },
          "execution_count": 120
        }
      ]
    },
    {
      "cell_type": "code",
      "metadata": {
        "id": "6MZwJRApxquo"
      },
      "source": [
        "#df2['W'].count()"
      ],
      "execution_count": null,
      "outputs": []
    },
    {
      "cell_type": "code",
      "metadata": {
        "colab": {
          "base_uri": "https://localhost:8080/"
        },
        "id": "uB60_gstxqw0",
        "outputId": "5f4abdeb-0878-4c3b-b40c-64440a317cd7"
      },
      "source": [
        "df.max()"
      ],
      "execution_count": null,
      "outputs": [
        {
          "output_type": "execute_result",
          "data": {
            "text/plain": [
              "eruptions     5.1\n",
              "waiting      96.0\n",
              "dtype: float64"
            ]
          },
          "metadata": {
            "tags": []
          },
          "execution_count": 126
        }
      ]
    },
    {
      "cell_type": "code",
      "metadata": {
        "colab": {
          "base_uri": "https://localhost:8080/"
        },
        "id": "J61LSK-kxqy_",
        "outputId": "dead70bf-9b38-409b-c4db-15cb8ee2fc57"
      },
      "source": [
        "df.min()"
      ],
      "execution_count": null,
      "outputs": [
        {
          "output_type": "execute_result",
          "data": {
            "text/plain": [
              "eruptions     1.6\n",
              "waiting      43.0\n",
              "dtype: float64"
            ]
          },
          "metadata": {
            "tags": []
          },
          "execution_count": 127
        }
      ]
    },
    {
      "cell_type": "code",
      "metadata": {
        "colab": {
          "base_uri": "https://localhost:8080/"
        },
        "id": "3jvuIE93xq1m",
        "outputId": "e8c00e59-dc03-4c3d-e827-4e7083d4f921"
      },
      "source": [
        "df.mean()"
      ],
      "execution_count": null,
      "outputs": [
        {
          "output_type": "execute_result",
          "data": {
            "text/plain": [
              "eruptions     3.487783\n",
              "waiting      70.897059\n",
              "dtype: float64"
            ]
          },
          "metadata": {
            "tags": []
          },
          "execution_count": 128
        }
      ]
    },
    {
      "cell_type": "code",
      "metadata": {
        "colab": {
          "base_uri": "https://localhost:8080/"
        },
        "id": "hXR9mwxaxq4M",
        "outputId": "ac51dc72-aef9-4c3b-a67c-a96c24062d30"
      },
      "source": [
        "df.median()"
      ],
      "execution_count": null,
      "outputs": [
        {
          "output_type": "execute_result",
          "data": {
            "text/plain": [
              "eruptions     4.0\n",
              "waiting      76.0\n",
              "dtype: float64"
            ]
          },
          "metadata": {
            "tags": []
          },
          "execution_count": 129
        }
      ]
    },
    {
      "cell_type": "code",
      "metadata": {
        "colab": {
          "base_uri": "https://localhost:8080/",
          "height": 297
        },
        "id": "c4mWAPPTxq6m",
        "outputId": "004107ad-ecb8-400d-e117-c7f519d86847"
      },
      "source": [
        "df.describe()"
      ],
      "execution_count": null,
      "outputs": [
        {
          "output_type": "execute_result",
          "data": {
            "text/html": [
              "<div>\n",
              "<style scoped>\n",
              "    .dataframe tbody tr th:only-of-type {\n",
              "        vertical-align: middle;\n",
              "    }\n",
              "\n",
              "    .dataframe tbody tr th {\n",
              "        vertical-align: top;\n",
              "    }\n",
              "\n",
              "    .dataframe thead th {\n",
              "        text-align: right;\n",
              "    }\n",
              "</style>\n",
              "<table border=\"1\" class=\"dataframe\">\n",
              "  <thead>\n",
              "    <tr style=\"text-align: right;\">\n",
              "      <th></th>\n",
              "      <th>eruptions</th>\n",
              "      <th>waiting</th>\n",
              "    </tr>\n",
              "  </thead>\n",
              "  <tbody>\n",
              "    <tr>\n",
              "      <th>count</th>\n",
              "      <td>272.000000</td>\n",
              "      <td>272.000000</td>\n",
              "    </tr>\n",
              "    <tr>\n",
              "      <th>mean</th>\n",
              "      <td>3.487783</td>\n",
              "      <td>70.897059</td>\n",
              "    </tr>\n",
              "    <tr>\n",
              "      <th>std</th>\n",
              "      <td>1.141371</td>\n",
              "      <td>13.594974</td>\n",
              "    </tr>\n",
              "    <tr>\n",
              "      <th>min</th>\n",
              "      <td>1.600000</td>\n",
              "      <td>43.000000</td>\n",
              "    </tr>\n",
              "    <tr>\n",
              "      <th>25%</th>\n",
              "      <td>2.162750</td>\n",
              "      <td>58.000000</td>\n",
              "    </tr>\n",
              "    <tr>\n",
              "      <th>50%</th>\n",
              "      <td>4.000000</td>\n",
              "      <td>76.000000</td>\n",
              "    </tr>\n",
              "    <tr>\n",
              "      <th>75%</th>\n",
              "      <td>4.454250</td>\n",
              "      <td>82.000000</td>\n",
              "    </tr>\n",
              "    <tr>\n",
              "      <th>max</th>\n",
              "      <td>5.100000</td>\n",
              "      <td>96.000000</td>\n",
              "    </tr>\n",
              "  </tbody>\n",
              "</table>\n",
              "</div>"
            ],
            "text/plain": [
              "        eruptions     waiting\n",
              "count  272.000000  272.000000\n",
              "mean     3.487783   70.897059\n",
              "std      1.141371   13.594974\n",
              "min      1.600000   43.000000\n",
              "25%      2.162750   58.000000\n",
              "50%      4.000000   76.000000\n",
              "75%      4.454250   82.000000\n",
              "max      5.100000   96.000000"
            ]
          },
          "metadata": {
            "tags": []
          },
          "execution_count": 130
        }
      ]
    },
    {
      "cell_type": "code",
      "metadata": {
        "colab": {
          "base_uri": "https://localhost:8080/"
        },
        "id": "TCOcvzSmxq9K",
        "outputId": "6ca7427c-cfea-4f2d-8dbb-e443ec64fe1b"
      },
      "source": [
        "df['waiting'].mean()"
      ],
      "execution_count": null,
      "outputs": [
        {
          "output_type": "execute_result",
          "data": {
            "text/plain": [
              "70.8970588235294"
            ]
          },
          "metadata": {
            "tags": []
          },
          "execution_count": 131
        }
      ]
    },
    {
      "cell_type": "code",
      "metadata": {
        "colab": {
          "base_uri": "https://localhost:8080/",
          "height": 332
        },
        "id": "TeRZgNmKxq_u",
        "outputId": "ea088a90-c98c-4df9-d1cb-729985a2c4b5"
      },
      "source": [
        "import matplotlib.pyplot as plot\r\n",
        "%matplotlib inline\r\n",
        "df.hist()"
      ],
      "execution_count": null,
      "outputs": [
        {
          "output_type": "execute_result",
          "data": {
            "text/plain": [
              "array([[<matplotlib.axes._subplots.AxesSubplot object at 0x7ff48682e630>,\n",
              "        <matplotlib.axes._subplots.AxesSubplot object at 0x7ff486818940>]],\n",
              "      dtype=object)"
            ]
          },
          "metadata": {
            "tags": []
          },
          "execution_count": 132
        },
        {
          "output_type": "display_data",
          "data": {
            "image/png": "[encoded data removed]",
            "text/plain": [
              "<Figure size 432x288 with 2 Axes>"
            ]
          },
          "metadata": {
            "tags": [],
            "needs_background": "light"
          }
        }
      ]
    },
    {
      "cell_type": "code",
      "metadata": {
        "colab": {
          "base_uri": "https://localhost:8080/",
          "height": 285
        },
        "id": "9eonQOCDxrCD",
        "outputId": "766c5496-90f7-45fa-db7f-0a7c7757a17f"
      },
      "source": [
        "df.plot()"
      ],
      "execution_count": null,
      "outputs": [
        {
          "output_type": "execute_result",
          "data": {
            "text/plain": [
              "<matplotlib.axes._subplots.AxesSubplot at 0x7ff4866fe9e8>"
            ]
          },
          "metadata": {
            "tags": []
          },
          "execution_count": 133
        },
        {
          "output_type": "display_data",
          "data": {
            "image/png": "[encoded data removed]",
            "text/plain": [
              "<Figure size 432x288 with 1 Axes>"
            ]
          },
          "metadata": {
            "tags": [],
            "needs_background": "light"
          }
        }
      ]
    },
    {
      "cell_type": "code",
      "metadata": {
        "colab": {
          "base_uri": "https://localhost:8080/",
          "height": 282
        },
        "id": "vrrCsmuLxrEc",
        "outputId": "74f49f3b-15e6-4064-d6aa-0da98f428f82"
      },
      "source": [
        "df['eruptions'].plot()"
      ],
      "execution_count": null,
      "outputs": [
        {
          "output_type": "execute_result",
          "data": {
            "text/plain": [
              "<matplotlib.axes._subplots.AxesSubplot at 0x7ff4862464a8>"
            ]
          },
          "metadata": {
            "tags": []
          },
          "execution_count": 137
        },
        {
          "output_type": "display_data",
          "data": {
            "image/png": "[encoded data removed]",
            "text/plain": [
              "<Figure size 432x288 with 1 Axes>"
            ]
          },
          "metadata": {
            "tags": [],
            "needs_background": "light"
          }
        }
      ]
    },
    {
      "cell_type": "code",
      "metadata": {
        "colab": {
          "base_uri": "https://localhost:8080/",
          "height": 282
        },
        "id": "7svBy1NbxrND",
        "outputId": "a63d98a8-f141-4ce6-d8ca-d65fb0574ad2"
      },
      "source": [
        "df.plot(kind='hist')"
      ],
      "execution_count": null,
      "outputs": [
        {
          "output_type": "execute_result",
          "data": {
            "text/plain": [
              "<matplotlib.axes._subplots.AxesSubplot at 0x7ff48616feb8>"
            ]
          },
          "metadata": {
            "tags": []
          },
          "execution_count": 138
        },
        {
          "output_type": "display_data",
          "data": {
            "image/png": "[encoded data removed]",
            "text/plain": [
              "<Figure size 432x288 with 1 Axes>"
            ]
          },
          "metadata": {
            "tags": [],
            "needs_background": "light"
          }
        }
      ]
    },
    {
      "cell_type": "code",
      "metadata": {
        "colab": {
          "base_uri": "https://localhost:8080/",
          "height": 296
        },
        "id": "uRHUdi8TzeRV",
        "outputId": "fdacd8b2-7620-4b2e-813e-29555cd35a71"
      },
      "source": [
        "df.plot(kind='scatter',x='waiting',y='eruptions')"
      ],
      "execution_count": null,
      "outputs": [
        {
          "output_type": "execute_result",
          "data": {
            "text/plain": [
              "<matplotlib.axes._subplots.AxesSubplot at 0x7ff4867e82b0>"
            ]
          },
          "metadata": {
            "tags": []
          },
          "execution_count": 139
        },
        {
          "output_type": "display_data",
          "data": {
            "image/png": "[encoded data removed]",
            "text/plain": [
              "<Figure size 432x288 with 1 Axes>"
            ]
          },
          "metadata": {
            "tags": [],
            "needs_background": "light"
          }
        }
      ]
    },
    {
      "cell_type": "code",
      "metadata": {
        "colab": {
          "base_uri": "https://localhost:8080/",
          "height": 419
        },
        "id": "_kBgu6dV2v24",
        "outputId": "7d71d412-84ce-4937-cec8-2fee52b7d3de"
      },
      "source": [
        "df = pd.read_csv('http://avijitroy.com/NYC.csv',index_col=None)\r\n",
        "df"
      ],
      "execution_count": null,
      "outputs": [
        {
          "output_type": "execute_result",
          "data": {
            "text/html": [
              "<div>\n",
              "<style scoped>\n",
              "    .dataframe tbody tr th:only-of-type {\n",
              "        vertical-align: middle;\n",
              "    }\n",
              "\n",
              "    .dataframe tbody tr th {\n",
              "        vertical-align: top;\n",
              "    }\n",
              "\n",
              "    .dataframe thead th {\n",
              "        text-align: right;\n",
              "    }\n",
              "</style>\n",
              "<table border=\"1\" class=\"dataframe\">\n",
              "  <thead>\n",
              "    <tr style=\"text-align: right;\">\n",
              "      <th></th>\n",
              "      <th>agency_id</th>\n",
              "      <th>agency</th>\n",
              "      <th>borough</th>\n",
              "      <th>closed</th>\n",
              "      <th>complaint_type</th>\n",
              "      <th>total</th>\n",
              "      <th>perc_closed</th>\n",
              "      <th>closed_within_a_day</th>\n",
              "      <th>number_of_records</th>\n",
              "      <th>past_number_of_weeks</th>\n",
              "      <th>created_after_timestamp</th>\n",
              "      <th>overall_closed_within_a_day</th>\n",
              "    </tr>\n",
              "  </thead>\n",
              "  <tbody>\n",
              "    <tr>\n",
              "      <th>0</th>\n",
              "      <td>10</td>\n",
              "      <td>DOB</td>\n",
              "      <td>QUEENS</td>\n",
              "      <td>455</td>\n",
              "      <td>Plumbing</td>\n",
              "      <td>600</td>\n",
              "      <td>0.758333</td>\n",
              "      <td>0.096703</td>\n",
              "      <td>455.0</td>\n",
              "      <td>12.0</td>\n",
              "      <td>2017-06-17T13:04:38.930226</td>\n",
              "      <td>0.073333</td>\n",
              "    </tr>\n",
              "    <tr>\n",
              "      <th>1</th>\n",
              "      <td>11</td>\n",
              "      <td>DOB</td>\n",
              "      <td>QUEENS</td>\n",
              "      <td>216</td>\n",
              "      <td>Special Enforcement</td>\n",
              "      <td>369</td>\n",
              "      <td>0.585366</td>\n",
              "      <td>0.009259</td>\n",
              "      <td>216.0</td>\n",
              "      <td>12.0</td>\n",
              "      <td>2017-06-17T13:04:38.930226</td>\n",
              "      <td>0.005420</td>\n",
              "    </tr>\n",
              "    <tr>\n",
              "      <th>2</th>\n",
              "      <td>12</td>\n",
              "      <td>DOB</td>\n",
              "      <td>MANHATTAN</td>\n",
              "      <td>876</td>\n",
              "      <td>Elevator</td>\n",
              "      <td>941</td>\n",
              "      <td>0.930925</td>\n",
              "      <td>0.231735</td>\n",
              "      <td>876.0</td>\n",
              "      <td>12.0</td>\n",
              "      <td>2017-06-17T13:04:38.930226</td>\n",
              "      <td>0.215728</td>\n",
              "    </tr>\n",
              "    <tr>\n",
              "      <th>3</th>\n",
              "      <td>12</td>\n",
              "      <td>DOB</td>\n",
              "      <td>BROOKLYN</td>\n",
              "      <td>14</td>\n",
              "      <td>Cranes and Derricks</td>\n",
              "      <td>14</td>\n",
              "      <td>1.000000</td>\n",
              "      <td>0.500000</td>\n",
              "      <td>14.0</td>\n",
              "      <td>12.0</td>\n",
              "      <td>2017-06-17T13:04:38.930226</td>\n",
              "      <td>0.500000</td>\n",
              "    </tr>\n",
              "    <tr>\n",
              "      <th>4</th>\n",
              "      <td>14</td>\n",
              "      <td>DOB</td>\n",
              "      <td>STATEN ISLAND</td>\n",
              "      <td>31</td>\n",
              "      <td>Elevator</td>\n",
              "      <td>37</td>\n",
              "      <td>0.837838</td>\n",
              "      <td>0.129032</td>\n",
              "      <td>31.0</td>\n",
              "      <td>12.0</td>\n",
              "      <td>2017-06-17T13:04:38.930226</td>\n",
              "      <td>0.108108</td>\n",
              "    </tr>\n",
              "    <tr>\n",
              "      <th>...</th>\n",
              "      <td>...</td>\n",
              "      <td>...</td>\n",
              "      <td>...</td>\n",
              "      <td>...</td>\n",
              "      <td>...</td>\n",
              "      <td>...</td>\n",
              "      <td>...</td>\n",
              "      <td>...</td>\n",
              "      <td>...</td>\n",
              "      <td>...</td>\n",
              "      <td>...</td>\n",
              "      <td>...</td>\n",
              "    </tr>\n",
              "    <tr>\n",
              "      <th>67</th>\n",
              "      <td>67</td>\n",
              "      <td>DOB</td>\n",
              "      <td>MANHATTAN</td>\n",
              "      <td>1</td>\n",
              "      <td>Miscellaneous Categories</td>\n",
              "      <td>1</td>\n",
              "      <td>1.000000</td>\n",
              "      <td>0.000000</td>\n",
              "      <td>1.0</td>\n",
              "      <td>12.0</td>\n",
              "      <td>2017-06-17T13:04:38.930226</td>\n",
              "      <td>0.000000</td>\n",
              "    </tr>\n",
              "    <tr>\n",
              "      <th>68</th>\n",
              "      <td>68</td>\n",
              "      <td>DOB</td>\n",
              "      <td>QUEENS</td>\n",
              "      <td>4</td>\n",
              "      <td>Scaffold Safety</td>\n",
              "      <td>6</td>\n",
              "      <td>0.666667</td>\n",
              "      <td>0.750000</td>\n",
              "      <td>4.0</td>\n",
              "      <td>12.0</td>\n",
              "      <td>2017-06-17T13:04:38.930226</td>\n",
              "      <td>0.500000</td>\n",
              "    </tr>\n",
              "    <tr>\n",
              "      <th>69</th>\n",
              "      <td>69</td>\n",
              "      <td>DOB</td>\n",
              "      <td>QUEENS</td>\n",
              "      <td>964</td>\n",
              "      <td>Building/Use</td>\n",
              "      <td>3543</td>\n",
              "      <td>0.272086</td>\n",
              "      <td>0.076763</td>\n",
              "      <td>964.0</td>\n",
              "      <td>12.0</td>\n",
              "      <td>2017-06-17T13:04:38.930226</td>\n",
              "      <td>0.020886</td>\n",
              "    </tr>\n",
              "    <tr>\n",
              "      <th>70</th>\n",
              "      <td>70</td>\n",
              "      <td>DOB</td>\n",
              "      <td>QUEENS</td>\n",
              "      <td>31</td>\n",
              "      <td>Boilers</td>\n",
              "      <td>36</td>\n",
              "      <td>0.861111</td>\n",
              "      <td>0.032258</td>\n",
              "      <td>31.0</td>\n",
              "      <td>12.0</td>\n",
              "      <td>2017-06-17T13:04:38.930226</td>\n",
              "      <td>0.027778</td>\n",
              "    </tr>\n",
              "    <tr>\n",
              "      <th>71</th>\n",
              "      <td>71</td>\n",
              "      <td>DOB</td>\n",
              "      <td>BROOKLYN</td>\n",
              "      <td>296</td>\n",
              "      <td>Electrical</td>\n",
              "      <td>319</td>\n",
              "      <td>0.927900</td>\n",
              "      <td>0.412162</td>\n",
              "      <td>296.0</td>\n",
              "      <td>12.0</td>\n",
              "      <td>2017-06-17T13:04:38.930226</td>\n",
              "      <td>0.382445</td>\n",
              "    </tr>\n",
              "  </tbody>\n",
              "</table>\n",
              "<p>72 rows × 12 columns</p>\n",
              "</div>"
            ],
            "text/plain": [
              "    agency_id agency  ...     created_after_timestamp  overall_closed_within_a_day\n",
              "0          10    DOB  ...  2017-06-17T13:04:38.930226                     0.073333\n",
              "1          11    DOB  ...  2017-06-17T13:04:38.930226                     0.005420\n",
              "2          12    DOB  ...  2017-06-17T13:04:38.930226                     0.215728\n",
              "3          12    DOB  ...  2017-06-17T13:04:38.930226                     0.500000\n",
              "4          14    DOB  ...  2017-06-17T13:04:38.930226                     0.108108\n",
              "..        ...    ...  ...                         ...                          ...\n",
              "67         67    DOB  ...  2017-06-17T13:04:38.930226                     0.000000\n",
              "68         68    DOB  ...  2017-06-17T13:04:38.930226                     0.500000\n",
              "69         69    DOB  ...  2017-06-17T13:04:38.930226                     0.020886\n",
              "70         70    DOB  ...  2017-06-17T13:04:38.930226                     0.027778\n",
              "71         71    DOB  ...  2017-06-17T13:04:38.930226                     0.382445\n",
              "\n",
              "[72 rows x 12 columns]"
            ]
          },
          "metadata": {
            "tags": []
          },
          "execution_count": 144
        }
      ]
    },
    {
      "cell_type": "code",
      "metadata": {
        "colab": {
          "base_uri": "https://localhost:8080/"
        },
        "id": "DXbGqPdt2v5O",
        "outputId": "2f59831f-8eff-41b4-d512-0edc43205d80"
      },
      "source": [
        "df.groupby(['borough'])['agency_id'].count()"
      ],
      "execution_count": null,
      "outputs": [
        {
          "output_type": "execute_result",
          "data": {
            "text/plain": [
              "borough\n",
              "BRONX            15\n",
              "BROOKLYN         15\n",
              "MANHATTAN        14\n",
              "QUEENS           15\n",
              "STATEN ISLAND    12\n",
              "Unspecified       1\n",
              "Name: agency_id, dtype: int64"
            ]
          },
          "metadata": {
            "tags": []
          },
          "execution_count": 145
        }
      ]
    },
    {
      "cell_type": "code",
      "metadata": {
        "colab": {
          "base_uri": "https://localhost:8080/"
        },
        "id": "ClaLIn2W2v7Z",
        "outputId": "058c520f-8608-4af7-89a3-e006cadb0391"
      },
      "source": [
        "df.groupby(['borough'])['agency_id'].median()"
      ],
      "execution_count": null,
      "outputs": [
        {
          "output_type": "execute_result",
          "data": {
            "text/plain": [
              "borough\n",
              "BRONX            30.0\n",
              "BROOKLYN         24.0\n",
              "MANHATTAN        37.0\n",
              "QUEENS           40.0\n",
              "STATEN ISLAND    37.5\n",
              "Unspecified      27.0\n",
              "Name: agency_id, dtype: float64"
            ]
          },
          "metadata": {
            "tags": []
          },
          "execution_count": 146
        }
      ]
    },
    {
      "cell_type": "code",
      "metadata": {
        "colab": {
          "base_uri": "https://localhost:8080/"
        },
        "id": "Bd6fowQR2v9n",
        "outputId": "750f0aa0-8e0b-4035-d8c2-d126ce8e0732"
      },
      "source": [
        "df.groupby(['borough'])['agency_id'].max()"
      ],
      "execution_count": null,
      "outputs": [
        {
          "output_type": "execute_result",
          "data": {
            "text/plain": [
              "borough\n",
              "BRONX            59\n",
              "BROOKLYN         71\n",
              "MANHATTAN        67\n",
              "QUEENS           70\n",
              "STATEN ISLAND    66\n",
              "Unspecified      27\n",
              "Name: agency_id, dtype: int64"
            ]
          },
          "metadata": {
            "tags": []
          },
          "execution_count": 147
        }
      ]
    },
    {
      "cell_type": "code",
      "metadata": {
        "colab": {
          "base_uri": "https://localhost:8080/"
        },
        "id": "rm2yQGHp2wAA",
        "outputId": "3476dead-3b9e-49fa-ece0-9eee7bb6fa8d"
      },
      "source": [
        "df.groupby(['borough'])['agency_id'].min()"
      ],
      "execution_count": null,
      "outputs": [
        {
          "output_type": "execute_result",
          "data": {
            "text/plain": [
              "borough\n",
              "BRONX             5\n",
              "BROOKLYN          8\n",
              "MANHATTAN        12\n",
              "QUEENS            6\n",
              "STATEN ISLAND    12\n",
              "Unspecified      27\n",
              "Name: agency_id, dtype: int64"
            ]
          },
          "metadata": {
            "tags": []
          },
          "execution_count": 148
        }
      ]
    },
    {
      "cell_type": "code",
      "metadata": {
        "colab": {
          "base_uri": "https://localhost:8080/"
        },
        "id": "EN3KxTNd2wCV",
        "outputId": "6fba3537-2b8e-46c7-cd5f-45d7a50fbe39"
      },
      "source": [
        "df.groupby(['borough'])['agency_id'].count().sort_values(ascending=True)"
      ],
      "execution_count": null,
      "outputs": [
        {
          "output_type": "execute_result",
          "data": {
            "text/plain": [
              "borough\n",
              "Unspecified       1\n",
              "STATEN ISLAND    12\n",
              "MANHATTAN        14\n",
              "BRONX            15\n",
              "BROOKLYN         15\n",
              "QUEENS           15\n",
              "Name: agency_id, dtype: int64"
            ]
          },
          "metadata": {
            "tags": []
          },
          "execution_count": 149
        }
      ]
    },
    {
      "cell_type": "code",
      "metadata": {
        "id": "cDMghbwl2wFF"
      },
      "source": [
        "df.groupby(['borough'])['agency_id'].count().sort_values(ascending=False)"
      ],
      "execution_count": null,
      "outputs": []
    },
    {
      "cell_type": "code",
      "metadata": {
        "colab": {
          "base_uri": "https://localhost:8080/",
          "height": 364
        },
        "id": "LPH9KvTy2wHq",
        "outputId": "2af6c01b-9aa7-428b-b5d7-db2b03b18d1c"
      },
      "source": [
        "df.groupby(['borough'])['agency_id'].count().plot(kind='bar')"
      ],
      "execution_count": null,
      "outputs": [
        {
          "output_type": "execute_result",
          "data": {
            "text/plain": [
              "<matplotlib.axes._subplots.AxesSubplot at 0x7ff485e9f668>"
            ]
          },
          "metadata": {
            "tags": []
          },
          "execution_count": 151
        },
        {
          "output_type": "display_data",
          "data": {
            "image/png": "[encoded data removed]",
            "text/plain": [
              "<Figure size 432x288 with 1 Axes>"
            ]
          },
          "metadata": {
            "tags": [],
            "needs_background": "light"
          }
        }
      ]
    },
    {
      "cell_type": "code",
      "metadata": {
        "colab": {
          "base_uri": "https://localhost:8080/",
          "height": 482
        },
        "id": "Z-B2t6ZhzebX",
        "outputId": "e330f473-dbf9-48e0-fa14-1ed74737bd5f"
      },
      "source": [
        "df.groupby(['complaint_type'])['agency_id'].count().plot(kind='bar')"
      ],
      "execution_count": null,
      "outputs": [
        {
          "output_type": "execute_result",
          "data": {
            "text/plain": [
              "<matplotlib.axes._subplots.AxesSubplot at 0x7ff485e100b8>"
            ]
          },
          "metadata": {
            "tags": []
          },
          "execution_count": 154
        },
        {
          "output_type": "display_data",
          "data": {
            "image/png": "[encoded data removed]",
            "text/plain": [
              "<Figure size 432x288 with 1 Axes>"
            ]
          },
          "metadata": {
            "tags": [],
            "needs_background": "light"
          }
        }
      ]
    },
    {
      "cell_type": "code",
      "metadata": {
        "colab": {
          "base_uri": "https://localhost:8080/"
        },
        "id": "qF89tDgyzeed",
        "outputId": "decb3ea6-8a47-4acc-a3f0-07dad1db5bad"
      },
      "source": [
        "df.groupby(['borough', 'complaint_type'])['agency_id'].count()"
      ],
      "execution_count": null,
      "outputs": [
        {
          "output_type": "execute_result",
          "data": {
            "text/plain": [
              "borough        complaint_type                         \n",
              "BRONX          BEST/Site Safety                           1\n",
              "               Boilers                                    1\n",
              "               Building/Use                               1\n",
              "               Cranes and Derricks                        1\n",
              "               Electrical                                 1\n",
              "                                                         ..\n",
              "STATEN ISLAND  Plumbing                                   1\n",
              "               Special Enforcement                        1\n",
              "               Special Natural Area District (SNAD)       1\n",
              "               Special Projects Inspection Team (SPIT)    1\n",
              "Unspecified    Forms                                      1\n",
              "Name: agency_id, Length: 72, dtype: int64"
            ]
          },
          "metadata": {
            "tags": []
          },
          "execution_count": 155
        }
      ]
    },
    {
      "cell_type": "code",
      "metadata": {
        "colab": {
          "base_uri": "https://localhost:8080/"
        },
        "id": "U9FFWYCGIpgC",
        "outputId": "1ab88492-6b28-44c3-c0e4-3d0beb7dfccd"
      },
      "source": [
        "df.groupby(['borough', 'complaint_type'])['agency_id'].count()\r\n",
        "\r\n",
        "with pd.option_context('display.max_rows',None,'display.max_columns',None):\r\n",
        "  print(df.groupby(['complaint_type','borough'])['agency_id'].count())"
      ],
      "execution_count": null,
      "outputs": [
        {
          "output_type": "stream",
          "text": [
            "complaint_type                           borough      \n",
            "BEST/Site Safety                         BRONX            1\n",
            "                                         BROOKLYN         1\n",
            "                                         MANHATTAN        1\n",
            "                                         QUEENS           1\n",
            "                                         STATEN ISLAND    1\n",
            "Boilers                                  BRONX            1\n",
            "                                         BROOKLYN         1\n",
            "                                         MANHATTAN        1\n",
            "                                         QUEENS           1\n",
            "                                         STATEN ISLAND    1\n",
            "Building/Use                             BRONX            1\n",
            "                                         BROOKLYN         1\n",
            "                                         MANHATTAN        1\n",
            "                                         QUEENS           1\n",
            "                                         STATEN ISLAND    1\n",
            "Cranes and Derricks                      BRONX            1\n",
            "                                         BROOKLYN         1\n",
            "                                         MANHATTAN        1\n",
            "                                         QUEENS           1\n",
            "Electrical                               BRONX            1\n",
            "                                         BROOKLYN         1\n",
            "                                         MANHATTAN        1\n",
            "                                         QUEENS           1\n",
            "                                         STATEN ISLAND    1\n",
            "Elevator                                 BRONX            1\n",
            "                                         BROOKLYN         1\n",
            "                                         MANHATTAN        1\n",
            "                                         QUEENS           1\n",
            "                                         STATEN ISLAND    1\n",
            "Emergency Response Team (ERT)            BRONX            1\n",
            "                                         BROOKLYN         1\n",
            "                                         MANHATTAN        1\n",
            "                                         QUEENS           1\n",
            "                                         STATEN ISLAND    1\n",
            "Forms                                    Unspecified      1\n",
            "General Construction/Plumbing            BRONX            1\n",
            "                                         BROOKLYN         1\n",
            "                                         MANHATTAN        1\n",
            "                                         QUEENS           1\n",
            "                                         STATEN ISLAND    1\n",
            "Investigations and Discipline (IAD)      BRONX            1\n",
            "                                         BROOKLYN         1\n",
            "                                         MANHATTAN        1\n",
            "                                         QUEENS           1\n",
            "                                         STATEN ISLAND    1\n",
            "Miscellaneous Categories                 BRONX            1\n",
            "                                         BROOKLYN         1\n",
            "                                         MANHATTAN        1\n",
            "                                         QUEENS           1\n",
            "Plumbing                                 BRONX            1\n",
            "                                         BROOKLYN         1\n",
            "                                         MANHATTAN        1\n",
            "                                         QUEENS           1\n",
            "                                         STATEN ISLAND    1\n",
            "Scaffold Safety                          BRONX            1\n",
            "                                         BROOKLYN         1\n",
            "                                         MANHATTAN        1\n",
            "                                         QUEENS           1\n",
            "Special Enforcement                      BRONX            1\n",
            "                                         BROOKLYN         1\n",
            "                                         MANHATTAN        1\n",
            "                                         QUEENS           1\n",
            "                                         STATEN ISLAND    1\n",
            "Special Natural Area District (SNAD)     BRONX            1\n",
            "                                         BROOKLYN         1\n",
            "                                         QUEENS           1\n",
            "                                         STATEN ISLAND    1\n",
            "Special Projects Inspection Team (SPIT)  BRONX            1\n",
            "                                         BROOKLYN         1\n",
            "                                         MANHATTAN        1\n",
            "                                         QUEENS           1\n",
            "                                         STATEN ISLAND    1\n",
            "Name: agency_id, dtype: int64\n"
          ],
          "name": "stdout"
        }
      ]
    },
    {
      "cell_type": "code",
      "metadata": {
        "colab": {
          "base_uri": "https://localhost:8080/",
          "height": 419
        },
        "id": "F49Zpdr3Klen",
        "outputId": "9163dd66-0016-423f-fbc5-9923ca2ea798"
      },
      "source": [
        "df[['agency_id','borough','complaint_type']]"
      ],
      "execution_count": null,
      "outputs": [
        {
          "output_type": "execute_result",
          "data": {
            "text/html": [
              "<div>\n",
              "<style scoped>\n",
              "    .dataframe tbody tr th:only-of-type {\n",
              "        vertical-align: middle;\n",
              "    }\n",
              "\n",
              "    .dataframe tbody tr th {\n",
              "        vertical-align: top;\n",
              "    }\n",
              "\n",
              "    .dataframe thead th {\n",
              "        text-align: right;\n",
              "    }\n",
              "</style>\n",
              "<table border=\"1\" class=\"dataframe\">\n",
              "  <thead>\n",
              "    <tr style=\"text-align: right;\">\n",
              "      <th></th>\n",
              "      <th>agency_id</th>\n",
              "      <th>borough</th>\n",
              "      <th>complaint_type</th>\n",
              "    </tr>\n",
              "  </thead>\n",
              "  <tbody>\n",
              "    <tr>\n",
              "      <th>0</th>\n",
              "      <td>10</td>\n",
              "      <td>QUEENS</td>\n",
              "      <td>Plumbing</td>\n",
              "    </tr>\n",
              "    <tr>\n",
              "      <th>1</th>\n",
              "      <td>11</td>\n",
              "      <td>QUEENS</td>\n",
              "      <td>Special Enforcement</td>\n",
              "    </tr>\n",
              "    <tr>\n",
              "      <th>2</th>\n",
              "      <td>12</td>\n",
              "      <td>MANHATTAN</td>\n",
              "      <td>Elevator</td>\n",
              "    </tr>\n",
              "    <tr>\n",
              "      <th>3</th>\n",
              "      <td>12</td>\n",
              "      <td>BROOKLYN</td>\n",
              "      <td>Cranes and Derricks</td>\n",
              "    </tr>\n",
              "    <tr>\n",
              "      <th>4</th>\n",
              "      <td>14</td>\n",
              "      <td>STATEN ISLAND</td>\n",
              "      <td>Elevator</td>\n",
              "    </tr>\n",
              "    <tr>\n",
              "      <th>...</th>\n",
              "      <td>...</td>\n",
              "      <td>...</td>\n",
              "      <td>...</td>\n",
              "    </tr>\n",
              "    <tr>\n",
              "      <th>67</th>\n",
              "      <td>67</td>\n",
              "      <td>MANHATTAN</td>\n",
              "      <td>Miscellaneous Categories</td>\n",
              "    </tr>\n",
              "    <tr>\n",
              "      <th>68</th>\n",
              "      <td>68</td>\n",
              "      <td>QUEENS</td>\n",
              "      <td>Scaffold Safety</td>\n",
              "    </tr>\n",
              "    <tr>\n",
              "      <th>69</th>\n",
              "      <td>69</td>\n",
              "      <td>QUEENS</td>\n",
              "      <td>Building/Use</td>\n",
              "    </tr>\n",
              "    <tr>\n",
              "      <th>70</th>\n",
              "      <td>70</td>\n",
              "      <td>QUEENS</td>\n",
              "      <td>Boilers</td>\n",
              "    </tr>\n",
              "    <tr>\n",
              "      <th>71</th>\n",
              "      <td>71</td>\n",
              "      <td>BROOKLYN</td>\n",
              "      <td>Electrical</td>\n",
              "    </tr>\n",
              "  </tbody>\n",
              "</table>\n",
              "<p>72 rows × 3 columns</p>\n",
              "</div>"
            ],
            "text/plain": [
              "    agency_id        borough            complaint_type\n",
              "0          10         QUEENS                  Plumbing\n",
              "1          11         QUEENS       Special Enforcement\n",
              "2          12      MANHATTAN                  Elevator\n",
              "3          12       BROOKLYN       Cranes and Derricks\n",
              "4          14  STATEN ISLAND                  Elevator\n",
              "..        ...            ...                       ...\n",
              "67         67      MANHATTAN  Miscellaneous Categories\n",
              "68         68         QUEENS           Scaffold Safety\n",
              "69         69         QUEENS              Building/Use\n",
              "70         70         QUEENS                   Boilers\n",
              "71         71       BROOKLYN                Electrical\n",
              "\n",
              "[72 rows x 3 columns]"
            ]
          },
          "metadata": {
            "tags": []
          },
          "execution_count": 157
        }
      ]
    },
    {
      "cell_type": "code",
      "metadata": {
        "colab": {
          "base_uri": "https://localhost:8080/",
          "height": 419
        },
        "id": "Sl8hCcWXKxQN",
        "outputId": "f95bcf5a-d9f6-4fa8-d613-ffcf898876b7"
      },
      "source": [
        "df[['agency_id','borough','complaint_type']]\r\n",
        "df2"
      ],
      "execution_count": null,
      "outputs": [
        {
          "output_type": "execute_result",
          "data": {
            "text/html": [
              "<div>\n",
              "<style scoped>\n",
              "    .dataframe tbody tr th:only-of-type {\n",
              "        vertical-align: middle;\n",
              "    }\n",
              "\n",
              "    .dataframe tbody tr th {\n",
              "        vertical-align: top;\n",
              "    }\n",
              "\n",
              "    .dataframe thead th {\n",
              "        text-align: right;\n",
              "    }\n",
              "</style>\n",
              "<table border=\"1\" class=\"dataframe\">\n",
              "  <thead>\n",
              "    <tr style=\"text-align: right;\">\n",
              "      <th></th>\n",
              "      <th>eruptions</th>\n",
              "      <th>waiting</th>\n",
              "    </tr>\n",
              "  </thead>\n",
              "  <tbody>\n",
              "    <tr>\n",
              "      <th>1</th>\n",
              "      <td>3.600</td>\n",
              "      <td>79</td>\n",
              "    </tr>\n",
              "    <tr>\n",
              "      <th>2</th>\n",
              "      <td>1.800</td>\n",
              "      <td>54</td>\n",
              "    </tr>\n",
              "    <tr>\n",
              "      <th>3</th>\n",
              "      <td>3.333</td>\n",
              "      <td>74</td>\n",
              "    </tr>\n",
              "    <tr>\n",
              "      <th>4</th>\n",
              "      <td>2.283</td>\n",
              "      <td>62</td>\n",
              "    </tr>\n",
              "    <tr>\n",
              "      <th>5</th>\n",
              "      <td>4.533</td>\n",
              "      <td>85</td>\n",
              "    </tr>\n",
              "    <tr>\n",
              "      <th>...</th>\n",
              "      <td>...</td>\n",
              "      <td>...</td>\n",
              "    </tr>\n",
              "    <tr>\n",
              "      <th>268</th>\n",
              "      <td>4.117</td>\n",
              "      <td>81</td>\n",
              "    </tr>\n",
              "    <tr>\n",
              "      <th>269</th>\n",
              "      <td>2.150</td>\n",
              "      <td>46</td>\n",
              "    </tr>\n",
              "    <tr>\n",
              "      <th>270</th>\n",
              "      <td>4.417</td>\n",
              "      <td>90</td>\n",
              "    </tr>\n",
              "    <tr>\n",
              "      <th>271</th>\n",
              "      <td>1.817</td>\n",
              "      <td>46</td>\n",
              "    </tr>\n",
              "    <tr>\n",
              "      <th>272</th>\n",
              "      <td>4.467</td>\n",
              "      <td>74</td>\n",
              "    </tr>\n",
              "  </tbody>\n",
              "</table>\n",
              "<p>272 rows × 2 columns</p>\n",
              "</div>"
            ],
            "text/plain": [
              "     eruptions  waiting\n",
              "1        3.600       79\n",
              "2        1.800       54\n",
              "3        3.333       74\n",
              "4        2.283       62\n",
              "5        4.533       85\n",
              "..         ...      ...\n",
              "268      4.117       81\n",
              "269      2.150       46\n",
              "270      4.417       90\n",
              "271      1.817       46\n",
              "272      4.467       74\n",
              "\n",
              "[272 rows x 2 columns]"
            ]
          },
          "metadata": {
            "tags": []
          },
          "execution_count": 158
        }
      ]
    },
    {
      "cell_type": "code",
      "metadata": {
        "colab": {
          "base_uri": "https://localhost:8080/",
          "height": 514
        },
        "id": "4pAc1ij9KxSf",
        "outputId": "4170e4d9-acda-4aa6-e60a-55cac07f5fd0"
      },
      "source": [
        "df3 = df[df['borough']=='QUEENS']\r\n",
        "df3"
      ],
      "execution_count": null,
      "outputs": [
        {
          "output_type": "execute_result",
          "data": {
            "text/html": [
              "<div>\n",
              "<style scoped>\n",
              "    .dataframe tbody tr th:only-of-type {\n",
              "        vertical-align: middle;\n",
              "    }\n",
              "\n",
              "    .dataframe tbody tr th {\n",
              "        vertical-align: top;\n",
              "    }\n",
              "\n",
              "    .dataframe thead th {\n",
              "        text-align: right;\n",
              "    }\n",
              "</style>\n",
              "<table border=\"1\" class=\"dataframe\">\n",
              "  <thead>\n",
              "    <tr style=\"text-align: right;\">\n",
              "      <th></th>\n",
              "      <th>agency_id</th>\n",
              "      <th>agency</th>\n",
              "      <th>borough</th>\n",
              "      <th>closed</th>\n",
              "      <th>complaint_type</th>\n",
              "      <th>total</th>\n",
              "      <th>perc_closed</th>\n",
              "      <th>closed_within_a_day</th>\n",
              "      <th>number_of_records</th>\n",
              "      <th>past_number_of_weeks</th>\n",
              "      <th>created_after_timestamp</th>\n",
              "      <th>overall_closed_within_a_day</th>\n",
              "    </tr>\n",
              "  </thead>\n",
              "  <tbody>\n",
              "    <tr>\n",
              "      <th>0</th>\n",
              "      <td>10</td>\n",
              "      <td>DOB</td>\n",
              "      <td>QUEENS</td>\n",
              "      <td>455</td>\n",
              "      <td>Plumbing</td>\n",
              "      <td>600</td>\n",
              "      <td>0.758333</td>\n",
              "      <td>0.096703</td>\n",
              "      <td>455.0</td>\n",
              "      <td>12.0</td>\n",
              "      <td>2017-06-17T13:04:38.930226</td>\n",
              "      <td>0.073333</td>\n",
              "    </tr>\n",
              "    <tr>\n",
              "      <th>1</th>\n",
              "      <td>11</td>\n",
              "      <td>DOB</td>\n",
              "      <td>QUEENS</td>\n",
              "      <td>216</td>\n",
              "      <td>Special Enforcement</td>\n",
              "      <td>369</td>\n",
              "      <td>0.585366</td>\n",
              "      <td>0.009259</td>\n",
              "      <td>216.0</td>\n",
              "      <td>12.0</td>\n",
              "      <td>2017-06-17T13:04:38.930226</td>\n",
              "      <td>0.005420</td>\n",
              "    </tr>\n",
              "    <tr>\n",
              "      <th>6</th>\n",
              "      <td>6</td>\n",
              "      <td>DOB</td>\n",
              "      <td>QUEENS</td>\n",
              "      <td>14</td>\n",
              "      <td>BEST/Site Safety</td>\n",
              "      <td>18</td>\n",
              "      <td>0.777778</td>\n",
              "      <td>0.642857</td>\n",
              "      <td>14.0</td>\n",
              "      <td>12.0</td>\n",
              "      <td>2017-06-17T13:04:38.930226</td>\n",
              "      <td>0.500000</td>\n",
              "    </tr>\n",
              "    <tr>\n",
              "      <th>7</th>\n",
              "      <td>7</td>\n",
              "      <td>DOB</td>\n",
              "      <td>QUEENS</td>\n",
              "      <td>188</td>\n",
              "      <td>Electrical</td>\n",
              "      <td>209</td>\n",
              "      <td>0.899522</td>\n",
              "      <td>0.234043</td>\n",
              "      <td>188.0</td>\n",
              "      <td>12.0</td>\n",
              "      <td>2017-06-17T13:04:38.930226</td>\n",
              "      <td>0.210526</td>\n",
              "    </tr>\n",
              "    <tr>\n",
              "      <th>15</th>\n",
              "      <td>15</td>\n",
              "      <td>DOB</td>\n",
              "      <td>QUEENS</td>\n",
              "      <td>8</td>\n",
              "      <td>Emergency Response Team (ERT)</td>\n",
              "      <td>8</td>\n",
              "      <td>1.000000</td>\n",
              "      <td>0.625000</td>\n",
              "      <td>8.0</td>\n",
              "      <td>12.0</td>\n",
              "      <td>2017-06-17T13:04:38.930226</td>\n",
              "      <td>0.625000</td>\n",
              "    </tr>\n",
              "    <tr>\n",
              "      <th>25</th>\n",
              "      <td>25</td>\n",
              "      <td>DOB</td>\n",
              "      <td>QUEENS</td>\n",
              "      <td>132</td>\n",
              "      <td>Special Projects Inspection Team (SPIT)</td>\n",
              "      <td>218</td>\n",
              "      <td>0.605505</td>\n",
              "      <td>0.098485</td>\n",
              "      <td>132.0</td>\n",
              "      <td>12.0</td>\n",
              "      <td>2017-06-17T13:04:38.930226</td>\n",
              "      <td>0.059633</td>\n",
              "    </tr>\n",
              "    <tr>\n",
              "      <th>31</th>\n",
              "      <td>31</td>\n",
              "      <td>DOB</td>\n",
              "      <td>QUEENS</td>\n",
              "      <td>1</td>\n",
              "      <td>Miscellaneous Categories</td>\n",
              "      <td>1</td>\n",
              "      <td>1.000000</td>\n",
              "      <td>0.000000</td>\n",
              "      <td>1.0</td>\n",
              "      <td>12.0</td>\n",
              "      <td>2017-06-17T13:04:38.930226</td>\n",
              "      <td>0.000000</td>\n",
              "    </tr>\n",
              "    <tr>\n",
              "      <th>40</th>\n",
              "      <td>40</td>\n",
              "      <td>DOB</td>\n",
              "      <td>QUEENS</td>\n",
              "      <td>508</td>\n",
              "      <td>Elevator</td>\n",
              "      <td>543</td>\n",
              "      <td>0.935543</td>\n",
              "      <td>0.181102</td>\n",
              "      <td>508.0</td>\n",
              "      <td>12.0</td>\n",
              "      <td>2017-06-17T13:04:38.930226</td>\n",
              "      <td>0.169429</td>\n",
              "    </tr>\n",
              "    <tr>\n",
              "      <th>54</th>\n",
              "      <td>54</td>\n",
              "      <td>DOB</td>\n",
              "      <td>QUEENS</td>\n",
              "      <td>14</td>\n",
              "      <td>Investigations and Discipline (IAD)</td>\n",
              "      <td>18</td>\n",
              "      <td>0.777778</td>\n",
              "      <td>0.071429</td>\n",
              "      <td>14.0</td>\n",
              "      <td>12.0</td>\n",
              "      <td>2017-06-17T13:04:38.930226</td>\n",
              "      <td>0.055556</td>\n",
              "    </tr>\n",
              "    <tr>\n",
              "      <th>58</th>\n",
              "      <td>58</td>\n",
              "      <td>DOB</td>\n",
              "      <td>QUEENS</td>\n",
              "      <td>12</td>\n",
              "      <td>Cranes and Derricks</td>\n",
              "      <td>12</td>\n",
              "      <td>1.000000</td>\n",
              "      <td>0.500000</td>\n",
              "      <td>12.0</td>\n",
              "      <td>12.0</td>\n",
              "      <td>2017-06-17T13:04:38.930226</td>\n",
              "      <td>0.500000</td>\n",
              "    </tr>\n",
              "    <tr>\n",
              "      <th>64</th>\n",
              "      <td>64</td>\n",
              "      <td>DOB</td>\n",
              "      <td>QUEENS</td>\n",
              "      <td>1139</td>\n",
              "      <td>General Construction/Plumbing</td>\n",
              "      <td>1776</td>\n",
              "      <td>0.641329</td>\n",
              "      <td>0.430202</td>\n",
              "      <td>1139.0</td>\n",
              "      <td>12.0</td>\n",
              "      <td>2017-06-17T13:04:38.930226</td>\n",
              "      <td>0.275901</td>\n",
              "    </tr>\n",
              "    <tr>\n",
              "      <th>65</th>\n",
              "      <td>65</td>\n",
              "      <td>DOB</td>\n",
              "      <td>QUEENS</td>\n",
              "      <td>6</td>\n",
              "      <td>Special Natural Area District (SNAD)</td>\n",
              "      <td>12</td>\n",
              "      <td>0.500000</td>\n",
              "      <td>0.000000</td>\n",
              "      <td>6.0</td>\n",
              "      <td>12.0</td>\n",
              "      <td>2017-06-17T13:04:38.930226</td>\n",
              "      <td>0.000000</td>\n",
              "    </tr>\n",
              "    <tr>\n",
              "      <th>68</th>\n",
              "      <td>68</td>\n",
              "      <td>DOB</td>\n",
              "      <td>QUEENS</td>\n",
              "      <td>4</td>\n",
              "      <td>Scaffold Safety</td>\n",
              "      <td>6</td>\n",
              "      <td>0.666667</td>\n",
              "      <td>0.750000</td>\n",
              "      <td>4.0</td>\n",
              "      <td>12.0</td>\n",
              "      <td>2017-06-17T13:04:38.930226</td>\n",
              "      <td>0.500000</td>\n",
              "    </tr>\n",
              "    <tr>\n",
              "      <th>69</th>\n",
              "      <td>69</td>\n",
              "      <td>DOB</td>\n",
              "      <td>QUEENS</td>\n",
              "      <td>964</td>\n",
              "      <td>Building/Use</td>\n",
              "      <td>3543</td>\n",
              "      <td>0.272086</td>\n",
              "      <td>0.076763</td>\n",
              "      <td>964.0</td>\n",
              "      <td>12.0</td>\n",
              "      <td>2017-06-17T13:04:38.930226</td>\n",
              "      <td>0.020886</td>\n",
              "    </tr>\n",
              "    <tr>\n",
              "      <th>70</th>\n",
              "      <td>70</td>\n",
              "      <td>DOB</td>\n",
              "      <td>QUEENS</td>\n",
              "      <td>31</td>\n",
              "      <td>Boilers</td>\n",
              "      <td>36</td>\n",
              "      <td>0.861111</td>\n",
              "      <td>0.032258</td>\n",
              "      <td>31.0</td>\n",
              "      <td>12.0</td>\n",
              "      <td>2017-06-17T13:04:38.930226</td>\n",
              "      <td>0.027778</td>\n",
              "    </tr>\n",
              "  </tbody>\n",
              "</table>\n",
              "</div>"
            ],
            "text/plain": [
              "    agency_id agency  ...     created_after_timestamp  overall_closed_within_a_day\n",
              "0          10    DOB  ...  2017-06-17T13:04:38.930226                     0.073333\n",
              "1          11    DOB  ...  2017-06-17T13:04:38.930226                     0.005420\n",
              "6           6    DOB  ...  2017-06-17T13:04:38.930226                     0.500000\n",
              "7           7    DOB  ...  2017-06-17T13:04:38.930226                     0.210526\n",
              "15         15    DOB  ...  2017-06-17T13:04:38.930226                     0.625000\n",
              "25         25    DOB  ...  2017-06-17T13:04:38.930226                     0.059633\n",
              "31         31    DOB  ...  2017-06-17T13:04:38.930226                     0.000000\n",
              "40         40    DOB  ...  2017-06-17T13:04:38.930226                     0.169429\n",
              "54         54    DOB  ...  2017-06-17T13:04:38.930226                     0.055556\n",
              "58         58    DOB  ...  2017-06-17T13:04:38.930226                     0.500000\n",
              "64         64    DOB  ...  2017-06-17T13:04:38.930226                     0.275901\n",
              "65         65    DOB  ...  2017-06-17T13:04:38.930226                     0.000000\n",
              "68         68    DOB  ...  2017-06-17T13:04:38.930226                     0.500000\n",
              "69         69    DOB  ...  2017-06-17T13:04:38.930226                     0.020886\n",
              "70         70    DOB  ...  2017-06-17T13:04:38.930226                     0.027778\n",
              "\n",
              "[15 rows x 12 columns]"
            ]
          },
          "metadata": {
            "tags": []
          },
          "execution_count": 160
        }
      ]
    },
    {
      "cell_type": "code",
      "metadata": {
        "id": "ixc8zUMwKxUl"
      },
      "source": [
        "df4 = df[(df['borough']=='QUEENS') & ]\r\n",
        "df4 = df[df]"
      ],
      "execution_count": null,
      "outputs": []
    },
    {
      "cell_type": "code",
      "metadata": {
        "colab": {
          "base_uri": "https://localhost:8080/"
        },
        "id": "AgC3Bk3rKxWu",
        "outputId": "b9a1b40c-fa79-418f-ffcc-8c37e43590a5"
      },
      "source": [
        "df5 = df[df['complaint_type']=='Elevator'].count()\r\n",
        "df5\r\n"
      ],
      "execution_count": null,
      "outputs": [
        {
          "output_type": "execute_result",
          "data": {
            "text/plain": [
              "agency_id                      5\n",
              "agency                         5\n",
              "borough                        5\n",
              "closed                         5\n",
              "complaint_type                 5\n",
              "total                          5\n",
              "perc_closed                    5\n",
              "closed_within_a_day            5\n",
              "number_of_records              5\n",
              "past_number_of_weeks           5\n",
              "created_after_timestamp        5\n",
              "overall_closed_within_a_day    5\n",
              "dtype: int64"
            ]
          },
          "metadata": {
            "tags": []
          },
          "execution_count": 164
        }
      ]
    },
    {
      "cell_type": "code",
      "metadata": {
        "id": "XR33OtHqKxm3"
      },
      "source": [
        "#df[df['complaint_type'].str.contains('ate')]"
      ],
      "execution_count": null,
      "outputs": []
    },
    {
      "cell_type": "code",
      "metadata": {
        "colab": {
          "base_uri": "https://localhost:8080/",
          "height": 142
        },
        "id": "8beTi_aiKxoy",
        "outputId": "ec5d84b7-8492-45b5-859d-0648300a34ab"
      },
      "source": [
        "df={'A':[1,2,np.nan], 'B':[3,np.nan,np.nan]}\r\n",
        "df\r\n",
        "df = pd.DataFrame(df)\r\n",
        "df"
      ],
      "execution_count": null,
      "outputs": [
        {
          "output_type": "execute_result",
          "data": {
            "text/html": [
              "<div>\n",
              "<style scoped>\n",
              "    .dataframe tbody tr th:only-of-type {\n",
              "        vertical-align: middle;\n",
              "    }\n",
              "\n",
              "    .dataframe tbody tr th {\n",
              "        vertical-align: top;\n",
              "    }\n",
              "\n",
              "    .dataframe thead th {\n",
              "        text-align: right;\n",
              "    }\n",
              "</style>\n",
              "<table border=\"1\" class=\"dataframe\">\n",
              "  <thead>\n",
              "    <tr style=\"text-align: right;\">\n",
              "      <th></th>\n",
              "      <th>A</th>\n",
              "      <th>B</th>\n",
              "    </tr>\n",
              "  </thead>\n",
              "  <tbody>\n",
              "    <tr>\n",
              "      <th>0</th>\n",
              "      <td>1.0</td>\n",
              "      <td>3.0</td>\n",
              "    </tr>\n",
              "    <tr>\n",
              "      <th>1</th>\n",
              "      <td>2.0</td>\n",
              "      <td>NaN</td>\n",
              "    </tr>\n",
              "    <tr>\n",
              "      <th>2</th>\n",
              "      <td>NaN</td>\n",
              "      <td>NaN</td>\n",
              "    </tr>\n",
              "  </tbody>\n",
              "</table>\n",
              "</div>"
            ],
            "text/plain": [
              "     A    B\n",
              "0  1.0  3.0\n",
              "1  2.0  NaN\n",
              "2  NaN  NaN"
            ]
          },
          "metadata": {
            "tags": []
          },
          "execution_count": 169
        }
      ]
    },
    {
      "cell_type": "code",
      "metadata": {
        "colab": {
          "base_uri": "https://localhost:8080/"
        },
        "id": "OqooPltNKxrb",
        "outputId": "34b25cca-96ea-4e9f-a1a1-98baa93b6789"
      },
      "source": [
        "df.isnull().sum()\r\n"
      ],
      "execution_count": null,
      "outputs": [
        {
          "output_type": "execute_result",
          "data": {
            "text/plain": [
              "A    1\n",
              "B    2\n",
              "dtype: int64"
            ]
          },
          "metadata": {
            "tags": []
          },
          "execution_count": 170
        }
      ]
    },
    {
      "cell_type": "code",
      "metadata": {
        "colab": {
          "base_uri": "https://localhost:8080/"
        },
        "id": "6O_Q2BycKxtH",
        "outputId": "7a19a35f-a47d-42ec-8ed1-e4490d5ca22d"
      },
      "source": [
        "print(df.isnull().sum())"
      ],
      "execution_count": null,
      "outputs": [
        {
          "output_type": "stream",
          "text": [
            "A    1\n",
            "B    2\n",
            "dtype: int64\n"
          ],
          "name": "stdout"
        }
      ]
    },
    {
      "cell_type": "code",
      "metadata": {
        "colab": {
          "base_uri": "https://localhost:8080/"
        },
        "id": "y7Z0sE5pKxvU",
        "outputId": "1eac512f-8562-491d-adb7-f5ae61005dbc"
      },
      "source": [
        "print(df.isnull().sum().sum())"
      ],
      "execution_count": null,
      "outputs": [
        {
          "output_type": "stream",
          "text": [
            "3\n"
          ],
          "name": "stdout"
        }
      ]
    },
    {
      "cell_type": "code",
      "metadata": {
        "colab": {
          "base_uri": "https://localhost:8080/",
          "height": 142
        },
        "id": "rytlmemMOFAP",
        "outputId": "216e0d8f-baa7-4373-e170-2ac17c66ad5b"
      },
      "source": [
        "dfdrop = df.dropna()\r\n",
        "df"
      ],
      "execution_count": null,
      "outputs": [
        {
          "output_type": "execute_result",
          "data": {
            "text/html": [
              "<div>\n",
              "<style scoped>\n",
              "    .dataframe tbody tr th:only-of-type {\n",
              "        vertical-align: middle;\n",
              "    }\n",
              "\n",
              "    .dataframe tbody tr th {\n",
              "        vertical-align: top;\n",
              "    }\n",
              "\n",
              "    .dataframe thead th {\n",
              "        text-align: right;\n",
              "    }\n",
              "</style>\n",
              "<table border=\"1\" class=\"dataframe\">\n",
              "  <thead>\n",
              "    <tr style=\"text-align: right;\">\n",
              "      <th></th>\n",
              "      <th>A</th>\n",
              "      <th>B</th>\n",
              "    </tr>\n",
              "  </thead>\n",
              "  <tbody>\n",
              "    <tr>\n",
              "      <th>0</th>\n",
              "      <td>1.0</td>\n",
              "      <td>3.0</td>\n",
              "    </tr>\n",
              "    <tr>\n",
              "      <th>1</th>\n",
              "      <td>2.0</td>\n",
              "      <td>NaN</td>\n",
              "    </tr>\n",
              "    <tr>\n",
              "      <th>2</th>\n",
              "      <td>NaN</td>\n",
              "      <td>NaN</td>\n",
              "    </tr>\n",
              "  </tbody>\n",
              "</table>\n",
              "</div>"
            ],
            "text/plain": [
              "     A    B\n",
              "0  1.0  3.0\n",
              "1  2.0  NaN\n",
              "2  NaN  NaN"
            ]
          },
          "metadata": {
            "tags": []
          },
          "execution_count": 174
        }
      ]
    },
    {
      "cell_type": "code",
      "metadata": {
        "colab": {
          "base_uri": "https://localhost:8080/",
          "height": 80
        },
        "id": "sa-T-KqrOFC4",
        "outputId": "f627fa26-04f8-4a89-e16b-9b351a97a2e6"
      },
      "source": [
        "dfdrop"
      ],
      "execution_count": null,
      "outputs": [
        {
          "output_type": "execute_result",
          "data": {
            "text/html": [
              "<div>\n",
              "<style scoped>\n",
              "    .dataframe tbody tr th:only-of-type {\n",
              "        vertical-align: middle;\n",
              "    }\n",
              "\n",
              "    .dataframe tbody tr th {\n",
              "        vertical-align: top;\n",
              "    }\n",
              "\n",
              "    .dataframe thead th {\n",
              "        text-align: right;\n",
              "    }\n",
              "</style>\n",
              "<table border=\"1\" class=\"dataframe\">\n",
              "  <thead>\n",
              "    <tr style=\"text-align: right;\">\n",
              "      <th></th>\n",
              "      <th>A</th>\n",
              "      <th>B</th>\n",
              "    </tr>\n",
              "  </thead>\n",
              "  <tbody>\n",
              "    <tr>\n",
              "      <th>0</th>\n",
              "      <td>1.0</td>\n",
              "      <td>3.0</td>\n",
              "    </tr>\n",
              "  </tbody>\n",
              "</table>\n",
              "</div>"
            ],
            "text/plain": [
              "     A    B\n",
              "0  1.0  3.0"
            ]
          },
          "metadata": {
            "tags": []
          },
          "execution_count": 175
        }
      ]
    },
    {
      "cell_type": "code",
      "metadata": {
        "colab": {
          "base_uri": "https://localhost:8080/",
          "height": 125
        },
        "id": "EaJFbY7JOFFd",
        "outputId": "3babb8f1-7328-4fc6-c87b-33970377cd1c"
      },
      "source": [
        "dfdrop = df.dropna(axis=1)\r\n",
        "dfdrop"
      ],
      "execution_count": null,
      "outputs": [
        {
          "output_type": "execute_result",
          "data": {
            "text/html": [
              "<div>\n",
              "<style scoped>\n",
              "    .dataframe tbody tr th:only-of-type {\n",
              "        vertical-align: middle;\n",
              "    }\n",
              "\n",
              "    .dataframe tbody tr th {\n",
              "        vertical-align: top;\n",
              "    }\n",
              "\n",
              "    .dataframe thead th {\n",
              "        text-align: right;\n",
              "    }\n",
              "</style>\n",
              "<table border=\"1\" class=\"dataframe\">\n",
              "  <thead>\n",
              "    <tr style=\"text-align: right;\">\n",
              "      <th></th>\n",
              "    </tr>\n",
              "  </thead>\n",
              "  <tbody>\n",
              "    <tr>\n",
              "      <th>0</th>\n",
              "    </tr>\n",
              "    <tr>\n",
              "      <th>1</th>\n",
              "    </tr>\n",
              "    <tr>\n",
              "      <th>2</th>\n",
              "    </tr>\n",
              "  </tbody>\n",
              "</table>\n",
              "</div>"
            ],
            "text/plain": [
              "Empty DataFrame\n",
              "Columns: []\n",
              "Index: [0, 1, 2]"
            ]
          },
          "metadata": {
            "tags": []
          },
          "execution_count": 178
        }
      ]
    },
    {
      "cell_type": "code",
      "metadata": {
        "colab": {
          "base_uri": "https://localhost:8080/",
          "height": 142
        },
        "id": "jODdHHlHOFH1",
        "outputId": "a4ff3891-69ad-474d-8eac-62a9ea1e4500"
      },
      "source": [
        "df.fillna(value = 'empty')"
      ],
      "execution_count": null,
      "outputs": [
        {
          "output_type": "execute_result",
          "data": {
            "text/html": [
              "<div>\n",
              "<style scoped>\n",
              "    .dataframe tbody tr th:only-of-type {\n",
              "        vertical-align: middle;\n",
              "    }\n",
              "\n",
              "    .dataframe tbody tr th {\n",
              "        vertical-align: top;\n",
              "    }\n",
              "\n",
              "    .dataframe thead th {\n",
              "        text-align: right;\n",
              "    }\n",
              "</style>\n",
              "<table border=\"1\" class=\"dataframe\">\n",
              "  <thead>\n",
              "    <tr style=\"text-align: right;\">\n",
              "      <th></th>\n",
              "      <th>A</th>\n",
              "      <th>B</th>\n",
              "    </tr>\n",
              "  </thead>\n",
              "  <tbody>\n",
              "    <tr>\n",
              "      <th>0</th>\n",
              "      <td>1</td>\n",
              "      <td>3</td>\n",
              "    </tr>\n",
              "    <tr>\n",
              "      <th>1</th>\n",
              "      <td>2</td>\n",
              "      <td>empty</td>\n",
              "    </tr>\n",
              "    <tr>\n",
              "      <th>2</th>\n",
              "      <td>empty</td>\n",
              "      <td>empty</td>\n",
              "    </tr>\n",
              "  </tbody>\n",
              "</table>\n",
              "</div>"
            ],
            "text/plain": [
              "       A      B\n",
              "0      1      3\n",
              "1      2  empty\n",
              "2  empty  empty"
            ]
          },
          "metadata": {
            "tags": []
          },
          "execution_count": 179
        }
      ]
    },
    {
      "cell_type": "code",
      "metadata": {
        "id": "FVtuG0l8OtdY"
      },
      "source": [
        "#df = pd.read_csv('http://avijitroy.com/microCred6/Employees.csv', encoding='latin-1' index_col=None)"
      ],
      "execution_count": null,
      "outputs": []
    },
    {
      "cell_type": "code",
      "metadata": {
        "id": "oKc209h4Otfo"
      },
      "source": [
        "#df.groupby(['GENDER'])['EID'].count()"
      ],
      "execution_count": null,
      "outputs": []
    },
    {
      "cell_type": "code",
      "metadata": {
        "id": "lUr-nHn8OtiM"
      },
      "source": [
        "#df.groupby(['TITLE','GENDER'])['EID'].count()"
      ],
      "execution_count": null,
      "outputs": []
    },
    {
      "cell_type": "code",
      "metadata": {
        "id": "nPe92V0YOtkW"
      },
      "source": [
        "#df.groupby(['TITLE','GENDER'])['EID'].count().sort_values(by = ['TITLE'])['EID']"
      ],
      "execution_count": null,
      "outputs": []
    },
    {
      "cell_type": "code",
      "metadata": {
        "id": "EeTmQkrYOtmw"
      },
      "source": [
        "#df.groupby(['GENDERS'])['SALARY'].max().plot(kind='bar')\r\n"
      ],
      "execution_count": null,
      "outputs": []
    }
  ]
}